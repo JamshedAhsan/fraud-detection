{
 "cells": [
  {
   "cell_type": "markdown",
   "id": "f1fae63e",
   "metadata": {},
   "source": [
    "# 1. Import Essential Python Libs"
   ]
  },
  {
   "cell_type": "code",
   "execution_count": 101,
   "id": "13a1d0fb",
   "metadata": {},
   "outputs": [],
   "source": [
    "#Import necessary python libraries\n",
    "import numpy as np #algebric computations\n",
    "import pandas as pd #data processing/handling\n",
    "import matplotlib.pyplot as plt # data visualization\n",
    "%matplotlib inline \n",
    "import seaborn as sns #for visualization\n",
    "import warnings #need to suppress warnings\n",
    "warnings.filterwarnings(\"ignore\")"
   ]
  },
  {
   "cell_type": "markdown",
   "id": "52967f8a",
   "metadata": {},
   "source": [
    "# 2. Data Reading"
   ]
  },
  {
   "cell_type": "code",
   "execution_count": 102,
   "id": "6d15426e",
   "metadata": {},
   "outputs": [
    {
     "data": {
      "text/html": [
       "<div>\n",
       "<style scoped>\n",
       "    .dataframe tbody tr th:only-of-type {\n",
       "        vertical-align: middle;\n",
       "    }\n",
       "\n",
       "    .dataframe tbody tr th {\n",
       "        vertical-align: top;\n",
       "    }\n",
       "\n",
       "    .dataframe thead th {\n",
       "        text-align: right;\n",
       "    }\n",
       "</style>\n",
       "<table border=\"1\" class=\"dataframe\">\n",
       "  <thead>\n",
       "    <tr style=\"text-align: right;\">\n",
       "      <th></th>\n",
       "      <th>id</th>\n",
       "      <th>member_id</th>\n",
       "      <th>loan_amnt</th>\n",
       "      <th>funded_amnt</th>\n",
       "      <th>funded_amnt_inv</th>\n",
       "      <th>term</th>\n",
       "      <th>int_rate</th>\n",
       "      <th>installment</th>\n",
       "      <th>grade</th>\n",
       "      <th>sub_grade</th>\n",
       "      <th>...</th>\n",
       "      <th>num_tl_90g_dpd_24m</th>\n",
       "      <th>num_tl_op_past_12m</th>\n",
       "      <th>pct_tl_nvr_dlq</th>\n",
       "      <th>percent_bc_gt_75</th>\n",
       "      <th>pub_rec_bankruptcies</th>\n",
       "      <th>tax_liens</th>\n",
       "      <th>tot_hi_cred_lim</th>\n",
       "      <th>total_bal_ex_mort</th>\n",
       "      <th>total_bc_limit</th>\n",
       "      <th>total_il_high_credit_limit</th>\n",
       "    </tr>\n",
       "  </thead>\n",
       "  <tbody>\n",
       "    <tr>\n",
       "      <th>0</th>\n",
       "      <td>1077501</td>\n",
       "      <td>1296599</td>\n",
       "      <td>5000</td>\n",
       "      <td>5000</td>\n",
       "      <td>4975.0</td>\n",
       "      <td>36 months</td>\n",
       "      <td>10.65%</td>\n",
       "      <td>162.87</td>\n",
       "      <td>B</td>\n",
       "      <td>B2</td>\n",
       "      <td>...</td>\n",
       "      <td>NaN</td>\n",
       "      <td>NaN</td>\n",
       "      <td>NaN</td>\n",
       "      <td>NaN</td>\n",
       "      <td>0.0</td>\n",
       "      <td>0.0</td>\n",
       "      <td>NaN</td>\n",
       "      <td>NaN</td>\n",
       "      <td>NaN</td>\n",
       "      <td>NaN</td>\n",
       "    </tr>\n",
       "    <tr>\n",
       "      <th>1</th>\n",
       "      <td>1077430</td>\n",
       "      <td>1314167</td>\n",
       "      <td>2500</td>\n",
       "      <td>2500</td>\n",
       "      <td>2500.0</td>\n",
       "      <td>60 months</td>\n",
       "      <td>15.27%</td>\n",
       "      <td>59.83</td>\n",
       "      <td>C</td>\n",
       "      <td>C4</td>\n",
       "      <td>...</td>\n",
       "      <td>NaN</td>\n",
       "      <td>NaN</td>\n",
       "      <td>NaN</td>\n",
       "      <td>NaN</td>\n",
       "      <td>0.0</td>\n",
       "      <td>0.0</td>\n",
       "      <td>NaN</td>\n",
       "      <td>NaN</td>\n",
       "      <td>NaN</td>\n",
       "      <td>NaN</td>\n",
       "    </tr>\n",
       "    <tr>\n",
       "      <th>2</th>\n",
       "      <td>1077175</td>\n",
       "      <td>1313524</td>\n",
       "      <td>2400</td>\n",
       "      <td>2400</td>\n",
       "      <td>2400.0</td>\n",
       "      <td>36 months</td>\n",
       "      <td>15.96%</td>\n",
       "      <td>84.33</td>\n",
       "      <td>C</td>\n",
       "      <td>C5</td>\n",
       "      <td>...</td>\n",
       "      <td>NaN</td>\n",
       "      <td>NaN</td>\n",
       "      <td>NaN</td>\n",
       "      <td>NaN</td>\n",
       "      <td>0.0</td>\n",
       "      <td>0.0</td>\n",
       "      <td>NaN</td>\n",
       "      <td>NaN</td>\n",
       "      <td>NaN</td>\n",
       "      <td>NaN</td>\n",
       "    </tr>\n",
       "    <tr>\n",
       "      <th>3</th>\n",
       "      <td>1076863</td>\n",
       "      <td>1277178</td>\n",
       "      <td>10000</td>\n",
       "      <td>10000</td>\n",
       "      <td>10000.0</td>\n",
       "      <td>36 months</td>\n",
       "      <td>13.49%</td>\n",
       "      <td>339.31</td>\n",
       "      <td>C</td>\n",
       "      <td>C1</td>\n",
       "      <td>...</td>\n",
       "      <td>NaN</td>\n",
       "      <td>NaN</td>\n",
       "      <td>NaN</td>\n",
       "      <td>NaN</td>\n",
       "      <td>0.0</td>\n",
       "      <td>0.0</td>\n",
       "      <td>NaN</td>\n",
       "      <td>NaN</td>\n",
       "      <td>NaN</td>\n",
       "      <td>NaN</td>\n",
       "    </tr>\n",
       "    <tr>\n",
       "      <th>4</th>\n",
       "      <td>1075358</td>\n",
       "      <td>1311748</td>\n",
       "      <td>3000</td>\n",
       "      <td>3000</td>\n",
       "      <td>3000.0</td>\n",
       "      <td>60 months</td>\n",
       "      <td>12.69%</td>\n",
       "      <td>67.79</td>\n",
       "      <td>B</td>\n",
       "      <td>B5</td>\n",
       "      <td>...</td>\n",
       "      <td>NaN</td>\n",
       "      <td>NaN</td>\n",
       "      <td>NaN</td>\n",
       "      <td>NaN</td>\n",
       "      <td>0.0</td>\n",
       "      <td>0.0</td>\n",
       "      <td>NaN</td>\n",
       "      <td>NaN</td>\n",
       "      <td>NaN</td>\n",
       "      <td>NaN</td>\n",
       "    </tr>\n",
       "  </tbody>\n",
       "</table>\n",
       "<p>5 rows × 111 columns</p>\n",
       "</div>"
      ],
      "text/plain": [
       "        id  member_id  loan_amnt  funded_amnt  funded_amnt_inv        term  \\\n",
       "0  1077501    1296599       5000         5000           4975.0   36 months   \n",
       "1  1077430    1314167       2500         2500           2500.0   60 months   \n",
       "2  1077175    1313524       2400         2400           2400.0   36 months   \n",
       "3  1076863    1277178      10000        10000          10000.0   36 months   \n",
       "4  1075358    1311748       3000         3000           3000.0   60 months   \n",
       "\n",
       "  int_rate  installment grade sub_grade  ... num_tl_90g_dpd_24m  \\\n",
       "0   10.65%       162.87     B        B2  ...                NaN   \n",
       "1   15.27%        59.83     C        C4  ...                NaN   \n",
       "2   15.96%        84.33     C        C5  ...                NaN   \n",
       "3   13.49%       339.31     C        C1  ...                NaN   \n",
       "4   12.69%        67.79     B        B5  ...                NaN   \n",
       "\n",
       "  num_tl_op_past_12m pct_tl_nvr_dlq  percent_bc_gt_75 pub_rec_bankruptcies  \\\n",
       "0                NaN            NaN               NaN                  0.0   \n",
       "1                NaN            NaN               NaN                  0.0   \n",
       "2                NaN            NaN               NaN                  0.0   \n",
       "3                NaN            NaN               NaN                  0.0   \n",
       "4                NaN            NaN               NaN                  0.0   \n",
       "\n",
       "  tax_liens tot_hi_cred_lim total_bal_ex_mort total_bc_limit  \\\n",
       "0       0.0             NaN               NaN            NaN   \n",
       "1       0.0             NaN               NaN            NaN   \n",
       "2       0.0             NaN               NaN            NaN   \n",
       "3       0.0             NaN               NaN            NaN   \n",
       "4       0.0             NaN               NaN            NaN   \n",
       "\n",
       "  total_il_high_credit_limit  \n",
       "0                        NaN  \n",
       "1                        NaN  \n",
       "2                        NaN  \n",
       "3                        NaN  \n",
       "4                        NaN  \n",
       "\n",
       "[5 rows x 111 columns]"
      ]
     },
     "execution_count": 102,
     "metadata": {},
     "output_type": "execute_result"
    }
   ],
   "source": [
    "loan_df = pd.read_csv('./loan/loan.csv')\n",
    "loan_df.head()"
   ]
  },
  {
   "cell_type": "code",
   "execution_count": 103,
   "id": "141dac21",
   "metadata": {},
   "outputs": [
    {
     "name": "stdout",
     "output_type": "stream",
     "text": [
      "<class 'pandas.core.frame.DataFrame'>\n",
      "RangeIndex: 39717 entries, 0 to 39716\n",
      "Columns: 111 entries, id to total_il_high_credit_limit\n",
      "dtypes: float64(74), int64(13), object(24)\n",
      "memory usage: 33.6+ MB\n"
     ]
    }
   ],
   "source": [
    "loan_df.info()"
   ]
  },
  {
   "cell_type": "markdown",
   "id": "167374fc",
   "metadata": {},
   "source": [
    "#### Observation\n",
    "1. There are 39,717 rows and 111 column"
   ]
  },
  {
   "cell_type": "markdown",
   "id": "16434346",
   "metadata": {},
   "source": [
    "# 3. Date Cleaning: Remove Redundant or non-relevant column"
   ]
  },
  {
   "cell_type": "markdown",
   "id": "ac5e63fd",
   "metadata": {},
   "source": [
    "## 3.1 Remove Columns where all entries are NULL"
   ]
  },
  {
   "cell_type": "code",
   "execution_count": 104,
   "id": "e59e1179",
   "metadata": {},
   "outputs": [
    {
     "data": {
      "text/html": [
       "<div>\n",
       "<style scoped>\n",
       "    .dataframe tbody tr th:only-of-type {\n",
       "        vertical-align: middle;\n",
       "    }\n",
       "\n",
       "    .dataframe tbody tr th {\n",
       "        vertical-align: top;\n",
       "    }\n",
       "\n",
       "    .dataframe thead th {\n",
       "        text-align: right;\n",
       "    }\n",
       "</style>\n",
       "<table border=\"1\" class=\"dataframe\">\n",
       "  <thead>\n",
       "    <tr style=\"text-align: right;\">\n",
       "      <th></th>\n",
       "      <th>id</th>\n",
       "      <th>member_id</th>\n",
       "      <th>loan_amnt</th>\n",
       "      <th>funded_amnt</th>\n",
       "      <th>funded_amnt_inv</th>\n",
       "      <th>term</th>\n",
       "      <th>int_rate</th>\n",
       "      <th>installment</th>\n",
       "      <th>grade</th>\n",
       "      <th>sub_grade</th>\n",
       "      <th>...</th>\n",
       "      <th>num_tl_90g_dpd_24m</th>\n",
       "      <th>num_tl_op_past_12m</th>\n",
       "      <th>pct_tl_nvr_dlq</th>\n",
       "      <th>percent_bc_gt_75</th>\n",
       "      <th>pub_rec_bankruptcies</th>\n",
       "      <th>tax_liens</th>\n",
       "      <th>tot_hi_cred_lim</th>\n",
       "      <th>total_bal_ex_mort</th>\n",
       "      <th>total_bc_limit</th>\n",
       "      <th>total_il_high_credit_limit</th>\n",
       "    </tr>\n",
       "  </thead>\n",
       "  <tbody>\n",
       "    <tr>\n",
       "      <th>0</th>\n",
       "      <td>1077501</td>\n",
       "      <td>1296599</td>\n",
       "      <td>5000</td>\n",
       "      <td>5000</td>\n",
       "      <td>4975.0</td>\n",
       "      <td>36 months</td>\n",
       "      <td>10.65%</td>\n",
       "      <td>162.87</td>\n",
       "      <td>B</td>\n",
       "      <td>B2</td>\n",
       "      <td>...</td>\n",
       "      <td>NaN</td>\n",
       "      <td>NaN</td>\n",
       "      <td>NaN</td>\n",
       "      <td>NaN</td>\n",
       "      <td>0.0</td>\n",
       "      <td>0.0</td>\n",
       "      <td>NaN</td>\n",
       "      <td>NaN</td>\n",
       "      <td>NaN</td>\n",
       "      <td>NaN</td>\n",
       "    </tr>\n",
       "    <tr>\n",
       "      <th>1</th>\n",
       "      <td>1077430</td>\n",
       "      <td>1314167</td>\n",
       "      <td>2500</td>\n",
       "      <td>2500</td>\n",
       "      <td>2500.0</td>\n",
       "      <td>60 months</td>\n",
       "      <td>15.27%</td>\n",
       "      <td>59.83</td>\n",
       "      <td>C</td>\n",
       "      <td>C4</td>\n",
       "      <td>...</td>\n",
       "      <td>NaN</td>\n",
       "      <td>NaN</td>\n",
       "      <td>NaN</td>\n",
       "      <td>NaN</td>\n",
       "      <td>0.0</td>\n",
       "      <td>0.0</td>\n",
       "      <td>NaN</td>\n",
       "      <td>NaN</td>\n",
       "      <td>NaN</td>\n",
       "      <td>NaN</td>\n",
       "    </tr>\n",
       "    <tr>\n",
       "      <th>2</th>\n",
       "      <td>1077175</td>\n",
       "      <td>1313524</td>\n",
       "      <td>2400</td>\n",
       "      <td>2400</td>\n",
       "      <td>2400.0</td>\n",
       "      <td>36 months</td>\n",
       "      <td>15.96%</td>\n",
       "      <td>84.33</td>\n",
       "      <td>C</td>\n",
       "      <td>C5</td>\n",
       "      <td>...</td>\n",
       "      <td>NaN</td>\n",
       "      <td>NaN</td>\n",
       "      <td>NaN</td>\n",
       "      <td>NaN</td>\n",
       "      <td>0.0</td>\n",
       "      <td>0.0</td>\n",
       "      <td>NaN</td>\n",
       "      <td>NaN</td>\n",
       "      <td>NaN</td>\n",
       "      <td>NaN</td>\n",
       "    </tr>\n",
       "    <tr>\n",
       "      <th>3</th>\n",
       "      <td>1076863</td>\n",
       "      <td>1277178</td>\n",
       "      <td>10000</td>\n",
       "      <td>10000</td>\n",
       "      <td>10000.0</td>\n",
       "      <td>36 months</td>\n",
       "      <td>13.49%</td>\n",
       "      <td>339.31</td>\n",
       "      <td>C</td>\n",
       "      <td>C1</td>\n",
       "      <td>...</td>\n",
       "      <td>NaN</td>\n",
       "      <td>NaN</td>\n",
       "      <td>NaN</td>\n",
       "      <td>NaN</td>\n",
       "      <td>0.0</td>\n",
       "      <td>0.0</td>\n",
       "      <td>NaN</td>\n",
       "      <td>NaN</td>\n",
       "      <td>NaN</td>\n",
       "      <td>NaN</td>\n",
       "    </tr>\n",
       "    <tr>\n",
       "      <th>4</th>\n",
       "      <td>1075358</td>\n",
       "      <td>1311748</td>\n",
       "      <td>3000</td>\n",
       "      <td>3000</td>\n",
       "      <td>3000.0</td>\n",
       "      <td>60 months</td>\n",
       "      <td>12.69%</td>\n",
       "      <td>67.79</td>\n",
       "      <td>B</td>\n",
       "      <td>B5</td>\n",
       "      <td>...</td>\n",
       "      <td>NaN</td>\n",
       "      <td>NaN</td>\n",
       "      <td>NaN</td>\n",
       "      <td>NaN</td>\n",
       "      <td>0.0</td>\n",
       "      <td>0.0</td>\n",
       "      <td>NaN</td>\n",
       "      <td>NaN</td>\n",
       "      <td>NaN</td>\n",
       "      <td>NaN</td>\n",
       "    </tr>\n",
       "  </tbody>\n",
       "</table>\n",
       "<p>5 rows × 111 columns</p>\n",
       "</div>"
      ],
      "text/plain": [
       "        id  member_id  loan_amnt  funded_amnt  funded_amnt_inv        term  \\\n",
       "0  1077501    1296599       5000         5000           4975.0   36 months   \n",
       "1  1077430    1314167       2500         2500           2500.0   60 months   \n",
       "2  1077175    1313524       2400         2400           2400.0   36 months   \n",
       "3  1076863    1277178      10000        10000          10000.0   36 months   \n",
       "4  1075358    1311748       3000         3000           3000.0   60 months   \n",
       "\n",
       "  int_rate  installment grade sub_grade  ... num_tl_90g_dpd_24m  \\\n",
       "0   10.65%       162.87     B        B2  ...                NaN   \n",
       "1   15.27%        59.83     C        C4  ...                NaN   \n",
       "2   15.96%        84.33     C        C5  ...                NaN   \n",
       "3   13.49%       339.31     C        C1  ...                NaN   \n",
       "4   12.69%        67.79     B        B5  ...                NaN   \n",
       "\n",
       "  num_tl_op_past_12m pct_tl_nvr_dlq  percent_bc_gt_75 pub_rec_bankruptcies  \\\n",
       "0                NaN            NaN               NaN                  0.0   \n",
       "1                NaN            NaN               NaN                  0.0   \n",
       "2                NaN            NaN               NaN                  0.0   \n",
       "3                NaN            NaN               NaN                  0.0   \n",
       "4                NaN            NaN               NaN                  0.0   \n",
       "\n",
       "  tax_liens tot_hi_cred_lim total_bal_ex_mort total_bc_limit  \\\n",
       "0       0.0             NaN               NaN            NaN   \n",
       "1       0.0             NaN               NaN            NaN   \n",
       "2       0.0             NaN               NaN            NaN   \n",
       "3       0.0             NaN               NaN            NaN   \n",
       "4       0.0             NaN               NaN            NaN   \n",
       "\n",
       "  total_il_high_credit_limit  \n",
       "0                        NaN  \n",
       "1                        NaN  \n",
       "2                        NaN  \n",
       "3                        NaN  \n",
       "4                        NaN  \n",
       "\n",
       "[5 rows x 111 columns]"
      ]
     },
     "execution_count": 104,
     "metadata": {},
     "output_type": "execute_result"
    }
   ],
   "source": [
    "loan_df1 = loan_df.dropna(axis='columns',how='all')\n",
    "loan_df.head()"
   ]
  },
  {
   "cell_type": "markdown",
   "id": "0407af7c",
   "metadata": {},
   "source": [
    "## 3.2 Missing Value Treatment"
   ]
  },
  {
   "cell_type": "code",
   "execution_count": 105,
   "id": "33f92fd4",
   "metadata": {},
   "outputs": [
    {
     "data": {
      "text/plain": [
       "id                                0\n",
       "member_id                         0\n",
       "loan_amnt                         0\n",
       "funded_amnt                       0\n",
       "funded_amnt_inv                   0\n",
       "term                              0\n",
       "int_rate                          0\n",
       "installment                       0\n",
       "grade                             0\n",
       "sub_grade                         0\n",
       "emp_title                      2459\n",
       "emp_length                     1075\n",
       "home_ownership                    0\n",
       "annual_inc                        0\n",
       "verification_status               0\n",
       "issue_d                           0\n",
       "loan_status                       0\n",
       "pymnt_plan                        0\n",
       "url                               0\n",
       "desc                          12940\n",
       "purpose                           0\n",
       "title                            11\n",
       "zip_code                          0\n",
       "addr_state                        0\n",
       "dti                               0\n",
       "delinq_2yrs                       0\n",
       "earliest_cr_line                  0\n",
       "inq_last_6mths                    0\n",
       "mths_since_last_delinq        25682\n",
       "mths_since_last_record        36931\n",
       "open_acc                          0\n",
       "pub_rec                           0\n",
       "revol_bal                         0\n",
       "revol_util                       50\n",
       "total_acc                         0\n",
       "initial_list_status               0\n",
       "out_prncp                         0\n",
       "out_prncp_inv                     0\n",
       "total_pymnt                       0\n",
       "total_pymnt_inv                   0\n",
       "total_rec_prncp                   0\n",
       "total_rec_int                     0\n",
       "total_rec_late_fee                0\n",
       "recoveries                        0\n",
       "collection_recovery_fee           0\n",
       "last_pymnt_d                     71\n",
       "last_pymnt_amnt                   0\n",
       "next_pymnt_d                  38577\n",
       "last_credit_pull_d                2\n",
       "collections_12_mths_ex_med       56\n",
       "policy_code                       0\n",
       "application_type                  0\n",
       "acc_now_delinq                    0\n",
       "chargeoff_within_12_mths         56\n",
       "delinq_amnt                       0\n",
       "pub_rec_bankruptcies            697\n",
       "tax_liens                        39\n",
       "dtype: int64"
      ]
     },
     "execution_count": 105,
     "metadata": {},
     "output_type": "execute_result"
    }
   ],
   "source": [
    "loan_df1.isnull().sum()"
   ]
  },
  {
   "cell_type": "markdown",
   "id": "13a1b9e2",
   "metadata": {},
   "source": [
    "#### Observation: \n",
    "It seems almost all entries are missing for following columns: mths_since_last_delinq, mths_since_last_record, next_pymnt_d\n",
    "#### Decision\n",
    "let's drop these columns"
   ]
  },
  {
   "cell_type": "code",
   "execution_count": 106,
   "id": "5c5756de",
   "metadata": {},
   "outputs": [
    {
     "name": "stdout",
     "output_type": "stream",
     "text": [
      "<class 'pandas.core.frame.DataFrame'>\n",
      "RangeIndex: 39717 entries, 0 to 39716\n",
      "Data columns (total 54 columns):\n",
      " #   Column                      Non-Null Count  Dtype  \n",
      "---  ------                      --------------  -----  \n",
      " 0   id                          39717 non-null  int64  \n",
      " 1   member_id                   39717 non-null  int64  \n",
      " 2   loan_amnt                   39717 non-null  int64  \n",
      " 3   funded_amnt                 39717 non-null  int64  \n",
      " 4   funded_amnt_inv             39717 non-null  float64\n",
      " 5   term                        39717 non-null  object \n",
      " 6   int_rate                    39717 non-null  object \n",
      " 7   installment                 39717 non-null  float64\n",
      " 8   grade                       39717 non-null  object \n",
      " 9   sub_grade                   39717 non-null  object \n",
      " 10  emp_title                   37258 non-null  object \n",
      " 11  emp_length                  38642 non-null  object \n",
      " 12  home_ownership              39717 non-null  object \n",
      " 13  annual_inc                  39717 non-null  float64\n",
      " 14  verification_status         39717 non-null  object \n",
      " 15  issue_d                     39717 non-null  object \n",
      " 16  loan_status                 39717 non-null  object \n",
      " 17  pymnt_plan                  39717 non-null  object \n",
      " 18  url                         39717 non-null  object \n",
      " 19  desc                        26777 non-null  object \n",
      " 20  purpose                     39717 non-null  object \n",
      " 21  title                       39706 non-null  object \n",
      " 22  zip_code                    39717 non-null  object \n",
      " 23  addr_state                  39717 non-null  object \n",
      " 24  dti                         39717 non-null  float64\n",
      " 25  delinq_2yrs                 39717 non-null  int64  \n",
      " 26  earliest_cr_line            39717 non-null  object \n",
      " 27  inq_last_6mths              39717 non-null  int64  \n",
      " 28  open_acc                    39717 non-null  int64  \n",
      " 29  pub_rec                     39717 non-null  int64  \n",
      " 30  revol_bal                   39717 non-null  int64  \n",
      " 31  revol_util                  39667 non-null  object \n",
      " 32  total_acc                   39717 non-null  int64  \n",
      " 33  initial_list_status         39717 non-null  object \n",
      " 34  out_prncp                   39717 non-null  float64\n",
      " 35  out_prncp_inv               39717 non-null  float64\n",
      " 36  total_pymnt                 39717 non-null  float64\n",
      " 37  total_pymnt_inv             39717 non-null  float64\n",
      " 38  total_rec_prncp             39717 non-null  float64\n",
      " 39  total_rec_int               39717 non-null  float64\n",
      " 40  total_rec_late_fee          39717 non-null  float64\n",
      " 41  recoveries                  39717 non-null  float64\n",
      " 42  collection_recovery_fee     39717 non-null  float64\n",
      " 43  last_pymnt_d                39646 non-null  object \n",
      " 44  last_pymnt_amnt             39717 non-null  float64\n",
      " 45  last_credit_pull_d          39715 non-null  object \n",
      " 46  collections_12_mths_ex_med  39661 non-null  float64\n",
      " 47  policy_code                 39717 non-null  int64  \n",
      " 48  application_type            39717 non-null  object \n",
      " 49  acc_now_delinq              39717 non-null  int64  \n",
      " 50  chargeoff_within_12_mths    39661 non-null  float64\n",
      " 51  delinq_amnt                 39717 non-null  int64  \n",
      " 52  pub_rec_bankruptcies        39020 non-null  float64\n",
      " 53  tax_liens                   39678 non-null  float64\n",
      "dtypes: float64(18), int64(13), object(23)\n",
      "memory usage: 16.4+ MB\n"
     ]
    }
   ],
   "source": [
    "\n",
    "loan_df1 = loan_df1.drop(columns=['mths_since_last_delinq', 'mths_since_last_record', 'next_pymnt_d'])\n",
    "loan_df1.info()"
   ]
  },
  {
   "cell_type": "markdown",
   "id": "35d66505",
   "metadata": {},
   "source": [
    "## 3.3 Understand each data points, fix data types and decide relevance based on context"
   ]
  },
  {
   "cell_type": "markdown",
   "id": "b6515d43",
   "metadata": {},
   "source": [
    "#### Observation\n",
    "* Based on data_dictionary.xls, id & member_id seems unique identifier for book keeping\n",
    "\n",
    "#### Assumption\n",
    "Following columns may be relevant only after grant of application based on data_dictionary given\n",
    "* funded_amnt, funded_amnt_inv, delinq_2yrs, out_prncp*, total_pymnt*, total_rec*, recoveries, collection_recovery_fee, last_pymnt*, last_credit_pull_d,collections_12_mths_ex_med,  \n",
    "\n",
    "#### Decision\n",
    "Let's drop those"
   ]
  },
  {
   "cell_type": "code",
   "execution_count": 107,
   "id": "f285b134",
   "metadata": {},
   "outputs": [
    {
     "name": "stdout",
     "output_type": "stream",
     "text": [
      "<class 'pandas.core.frame.DataFrame'>\n",
      "RangeIndex: 39717 entries, 0 to 39716\n",
      "Data columns (total 36 columns):\n",
      " #   Column                    Non-Null Count  Dtype  \n",
      "---  ------                    --------------  -----  \n",
      " 0   loan_amnt                 39717 non-null  int64  \n",
      " 1   term                      39717 non-null  object \n",
      " 2   int_rate                  39717 non-null  object \n",
      " 3   installment               39717 non-null  float64\n",
      " 4   grade                     39717 non-null  object \n",
      " 5   sub_grade                 39717 non-null  object \n",
      " 6   emp_title                 37258 non-null  object \n",
      " 7   emp_length                38642 non-null  object \n",
      " 8   home_ownership            39717 non-null  object \n",
      " 9   annual_inc                39717 non-null  float64\n",
      " 10  verification_status       39717 non-null  object \n",
      " 11  issue_d                   39717 non-null  object \n",
      " 12  loan_status               39717 non-null  object \n",
      " 13  pymnt_plan                39717 non-null  object \n",
      " 14  url                       39717 non-null  object \n",
      " 15  desc                      26777 non-null  object \n",
      " 16  purpose                   39717 non-null  object \n",
      " 17  title                     39706 non-null  object \n",
      " 18  zip_code                  39717 non-null  object \n",
      " 19  addr_state                39717 non-null  object \n",
      " 20  dti                       39717 non-null  float64\n",
      " 21  earliest_cr_line          39717 non-null  object \n",
      " 22  inq_last_6mths            39717 non-null  int64  \n",
      " 23  open_acc                  39717 non-null  int64  \n",
      " 24  pub_rec                   39717 non-null  int64  \n",
      " 25  revol_bal                 39717 non-null  int64  \n",
      " 26  revol_util                39667 non-null  object \n",
      " 27  total_acc                 39717 non-null  int64  \n",
      " 28  initial_list_status       39717 non-null  object \n",
      " 29  policy_code               39717 non-null  int64  \n",
      " 30  application_type          39717 non-null  object \n",
      " 31  acc_now_delinq            39717 non-null  int64  \n",
      " 32  chargeoff_within_12_mths  39661 non-null  float64\n",
      " 33  delinq_amnt               39717 non-null  int64  \n",
      " 34  pub_rec_bankruptcies      39020 non-null  float64\n",
      " 35  tax_liens                 39678 non-null  float64\n",
      "dtypes: float64(6), int64(9), object(21)\n",
      "memory usage: 10.9+ MB\n"
     ]
    }
   ],
   "source": [
    "loan_df2 = loan_df1.drop(columns=['id','member_id','delinq_2yrs','out_prncp','out_prncp_inv','total_pymnt','total_pymnt_inv',\n",
    "                                 'total_rec_prncp','total_rec_int','total_rec_late_fee','recoveries','collection_recovery_fee',\n",
    "                                 'last_pymnt_d','last_pymnt_amnt','last_credit_pull_d','collections_12_mths_ex_med',\n",
    "                                 'funded_amnt','funded_amnt_inv'])\n",
    "loan_df2.info()"
   ]
  },
  {
   "cell_type": "code",
   "execution_count": 108,
   "id": "67a4cc80",
   "metadata": {},
   "outputs": [
    {
     "data": {
      "text/plain": [
       " 36 months    29096\n",
       " 60 months    10621\n",
       "Name: term, dtype: int64"
      ]
     },
     "execution_count": 108,
     "metadata": {},
     "output_type": "execute_result"
    }
   ],
   "source": [
    "loan_df2['term'].value_counts()"
   ]
  },
  {
   "cell_type": "markdown",
   "id": "1e522b1d",
   "metadata": {},
   "source": [
    "#### Observation\n",
    "Column 'term' seems like ordered categorical type\n",
    "#### Decision\n",
    "Let's convert data type as 'category'"
   ]
  },
  {
   "cell_type": "code",
   "execution_count": 109,
   "id": "8ad7fe7c",
   "metadata": {},
   "outputs": [
    {
     "name": "stdout",
     "output_type": "stream",
     "text": [
      "<class 'pandas.core.frame.DataFrame'>\n",
      "RangeIndex: 39717 entries, 0 to 39716\n",
      "Data columns (total 36 columns):\n",
      " #   Column                    Non-Null Count  Dtype   \n",
      "---  ------                    --------------  -----   \n",
      " 0   loan_amnt                 39717 non-null  int64   \n",
      " 1   term                      39717 non-null  category\n",
      " 2   int_rate                  39717 non-null  object  \n",
      " 3   installment               39717 non-null  float64 \n",
      " 4   grade                     39717 non-null  object  \n",
      " 5   sub_grade                 39717 non-null  object  \n",
      " 6   emp_title                 37258 non-null  object  \n",
      " 7   emp_length                38642 non-null  object  \n",
      " 8   home_ownership            39717 non-null  object  \n",
      " 9   annual_inc                39717 non-null  float64 \n",
      " 10  verification_status       39717 non-null  object  \n",
      " 11  issue_d                   39717 non-null  object  \n",
      " 12  loan_status               39717 non-null  object  \n",
      " 13  pymnt_plan                39717 non-null  object  \n",
      " 14  url                       39717 non-null  object  \n",
      " 15  desc                      26777 non-null  object  \n",
      " 16  purpose                   39717 non-null  object  \n",
      " 17  title                     39706 non-null  object  \n",
      " 18  zip_code                  39717 non-null  object  \n",
      " 19  addr_state                39717 non-null  object  \n",
      " 20  dti                       39717 non-null  float64 \n",
      " 21  earliest_cr_line          39717 non-null  object  \n",
      " 22  inq_last_6mths            39717 non-null  int64   \n",
      " 23  open_acc                  39717 non-null  int64   \n",
      " 24  pub_rec                   39717 non-null  int64   \n",
      " 25  revol_bal                 39717 non-null  int64   \n",
      " 26  revol_util                39667 non-null  object  \n",
      " 27  total_acc                 39717 non-null  int64   \n",
      " 28  initial_list_status       39717 non-null  object  \n",
      " 29  policy_code               39717 non-null  int64   \n",
      " 30  application_type          39717 non-null  object  \n",
      " 31  acc_now_delinq            39717 non-null  int64   \n",
      " 32  chargeoff_within_12_mths  39661 non-null  float64 \n",
      " 33  delinq_amnt               39717 non-null  int64   \n",
      " 34  pub_rec_bankruptcies      39020 non-null  float64 \n",
      " 35  tax_liens                 39678 non-null  float64 \n",
      "dtypes: category(1), float64(6), int64(9), object(20)\n",
      "memory usage: 10.6+ MB\n"
     ]
    }
   ],
   "source": [
    "loan_df2['term'] = loan_df2['term'].astype('category')\n",
    "loan_df2.info()"
   ]
  },
  {
   "cell_type": "code",
   "execution_count": 110,
   "id": "4f40f66a",
   "metadata": {},
   "outputs": [
    {
     "data": {
      "text/plain": [
       "0        10.65%\n",
       "1        15.27%\n",
       "2        15.96%\n",
       "3        13.49%\n",
       "4        12.69%\n",
       "          ...  \n",
       "39712     8.07%\n",
       "39713    10.28%\n",
       "39714     8.07%\n",
       "39715     7.43%\n",
       "39716    13.75%\n",
       "Name: int_rate, Length: 39717, dtype: object"
      ]
     },
     "execution_count": 110,
     "metadata": {},
     "output_type": "execute_result"
    }
   ],
   "source": [
    "loan_df2['int_rate']"
   ]
  },
  {
   "cell_type": "markdown",
   "id": "8b3f8c1e",
   "metadata": {},
   "source": [
    "#### Observation\n",
    "* % character is changing type of values\n",
    "#### Descision\n",
    "* Need to drop '%' char in order to make use of this column as continuous variable for analysis purpose"
   ]
  },
  {
   "cell_type": "code",
   "execution_count": 111,
   "id": "8a080b01",
   "metadata": {},
   "outputs": [
    {
     "name": "stdout",
     "output_type": "stream",
     "text": [
      "<class 'pandas.core.frame.DataFrame'>\n",
      "RangeIndex: 39717 entries, 0 to 39716\n",
      "Data columns (total 36 columns):\n",
      " #   Column                    Non-Null Count  Dtype   \n",
      "---  ------                    --------------  -----   \n",
      " 0   loan_amnt                 39717 non-null  int64   \n",
      " 1   term                      39717 non-null  category\n",
      " 2   int_rate                  39717 non-null  float64 \n",
      " 3   installment               39717 non-null  float64 \n",
      " 4   grade                     39717 non-null  object  \n",
      " 5   sub_grade                 39717 non-null  object  \n",
      " 6   emp_title                 37258 non-null  object  \n",
      " 7   emp_length                38642 non-null  object  \n",
      " 8   home_ownership            39717 non-null  object  \n",
      " 9   annual_inc                39717 non-null  float64 \n",
      " 10  verification_status       39717 non-null  object  \n",
      " 11  issue_d                   39717 non-null  object  \n",
      " 12  loan_status               39717 non-null  object  \n",
      " 13  pymnt_plan                39717 non-null  object  \n",
      " 14  url                       39717 non-null  object  \n",
      " 15  desc                      26777 non-null  object  \n",
      " 16  purpose                   39717 non-null  object  \n",
      " 17  title                     39706 non-null  object  \n",
      " 18  zip_code                  39717 non-null  object  \n",
      " 19  addr_state                39717 non-null  object  \n",
      " 20  dti                       39717 non-null  float64 \n",
      " 21  earliest_cr_line          39717 non-null  object  \n",
      " 22  inq_last_6mths            39717 non-null  int64   \n",
      " 23  open_acc                  39717 non-null  int64   \n",
      " 24  pub_rec                   39717 non-null  int64   \n",
      " 25  revol_bal                 39717 non-null  int64   \n",
      " 26  revol_util                39667 non-null  object  \n",
      " 27  total_acc                 39717 non-null  int64   \n",
      " 28  initial_list_status       39717 non-null  object  \n",
      " 29  policy_code               39717 non-null  int64   \n",
      " 30  application_type          39717 non-null  object  \n",
      " 31  acc_now_delinq            39717 non-null  int64   \n",
      " 32  chargeoff_within_12_mths  39661 non-null  float64 \n",
      " 33  delinq_amnt               39717 non-null  int64   \n",
      " 34  pub_rec_bankruptcies      39020 non-null  float64 \n",
      " 35  tax_liens                 39678 non-null  float64 \n",
      "dtypes: category(1), float64(7), int64(9), object(19)\n",
      "memory usage: 10.6+ MB\n"
     ]
    }
   ],
   "source": [
    "#drop last char i.e. % from each value\n",
    "loan_df2['int_rate'] = loan_df2['int_rate'].apply(lambda x: 0 if (x=='0%') else float(x[:-1])) \n",
    "loan_df2.info()"
   ]
  },
  {
   "cell_type": "code",
   "execution_count": 112,
   "id": "92e415f7",
   "metadata": {},
   "outputs": [
    {
     "data": {
      "text/plain": [
       "0        B\n",
       "1        C\n",
       "2        C\n",
       "3        C\n",
       "4        B\n",
       "        ..\n",
       "39712    A\n",
       "39713    C\n",
       "39714    A\n",
       "39715    A\n",
       "39716    E\n",
       "Name: grade, Length: 39717, dtype: object"
      ]
     },
     "execution_count": 112,
     "metadata": {},
     "output_type": "execute_result"
    }
   ],
   "source": [
    "loan_df2['grade']"
   ]
  },
  {
   "cell_type": "markdown",
   "id": "0305a96e",
   "metadata": {},
   "source": [
    "#### Observation\n",
    "* Data values seems like ordered categorical variable\n",
    "#### Assumption/Desision\n",
    "* it shall be useful to change data type as 'category'"
   ]
  },
  {
   "cell_type": "code",
   "execution_count": 113,
   "id": "c651b60c",
   "metadata": {},
   "outputs": [
    {
     "name": "stdout",
     "output_type": "stream",
     "text": [
      "<class 'pandas.core.frame.DataFrame'>\n",
      "RangeIndex: 39717 entries, 0 to 39716\n",
      "Data columns (total 36 columns):\n",
      " #   Column                    Non-Null Count  Dtype   \n",
      "---  ------                    --------------  -----   \n",
      " 0   loan_amnt                 39717 non-null  int64   \n",
      " 1   term                      39717 non-null  category\n",
      " 2   int_rate                  39717 non-null  float64 \n",
      " 3   installment               39717 non-null  float64 \n",
      " 4   grade                     39717 non-null  category\n",
      " 5   sub_grade                 39717 non-null  object  \n",
      " 6   emp_title                 37258 non-null  object  \n",
      " 7   emp_length                38642 non-null  object  \n",
      " 8   home_ownership            39717 non-null  object  \n",
      " 9   annual_inc                39717 non-null  float64 \n",
      " 10  verification_status       39717 non-null  object  \n",
      " 11  issue_d                   39717 non-null  object  \n",
      " 12  loan_status               39717 non-null  object  \n",
      " 13  pymnt_plan                39717 non-null  object  \n",
      " 14  url                       39717 non-null  object  \n",
      " 15  desc                      26777 non-null  object  \n",
      " 16  purpose                   39717 non-null  object  \n",
      " 17  title                     39706 non-null  object  \n",
      " 18  zip_code                  39717 non-null  object  \n",
      " 19  addr_state                39717 non-null  object  \n",
      " 20  dti                       39717 non-null  float64 \n",
      " 21  earliest_cr_line          39717 non-null  object  \n",
      " 22  inq_last_6mths            39717 non-null  int64   \n",
      " 23  open_acc                  39717 non-null  int64   \n",
      " 24  pub_rec                   39717 non-null  int64   \n",
      " 25  revol_bal                 39717 non-null  int64   \n",
      " 26  revol_util                39667 non-null  object  \n",
      " 27  total_acc                 39717 non-null  int64   \n",
      " 28  initial_list_status       39717 non-null  object  \n",
      " 29  policy_code               39717 non-null  int64   \n",
      " 30  application_type          39717 non-null  object  \n",
      " 31  acc_now_delinq            39717 non-null  int64   \n",
      " 32  chargeoff_within_12_mths  39661 non-null  float64 \n",
      " 33  delinq_amnt               39717 non-null  int64   \n",
      " 34  pub_rec_bankruptcies      39020 non-null  float64 \n",
      " 35  tax_liens                 39678 non-null  float64 \n",
      "dtypes: category(2), float64(7), int64(9), object(18)\n",
      "memory usage: 10.4+ MB\n"
     ]
    }
   ],
   "source": [
    "loan_df2['grade'] = loan_df2['grade'].astype('category')\n",
    "loan_df2.info()"
   ]
  },
  {
   "cell_type": "code",
   "execution_count": 114,
   "id": "163ef1e1",
   "metadata": {},
   "outputs": [
    {
     "data": {
      "text/plain": [
       "0        B2\n",
       "1        C4\n",
       "2        C5\n",
       "3        C1\n",
       "4        B5\n",
       "         ..\n",
       "39712    A4\n",
       "39713    C1\n",
       "39714    A4\n",
       "39715    A2\n",
       "39716    E2\n",
       "Name: sub_grade, Length: 39717, dtype: object"
      ]
     },
     "execution_count": 114,
     "metadata": {},
     "output_type": "execute_result"
    }
   ],
   "source": [
    "loan_df2['sub_grade']"
   ]
  },
  {
   "cell_type": "markdown",
   "id": "d167cd5c",
   "metadata": {},
   "source": [
    "#### Observation\n",
    "* Data values seems like ordered categorical variable\n",
    "#### Assumption/Desision\n",
    "* it shall be useful to change data type as 'category'"
   ]
  },
  {
   "cell_type": "code",
   "execution_count": 115,
   "id": "98a0a0db",
   "metadata": {},
   "outputs": [
    {
     "name": "stdout",
     "output_type": "stream",
     "text": [
      "<class 'pandas.core.frame.DataFrame'>\n",
      "RangeIndex: 39717 entries, 0 to 39716\n",
      "Data columns (total 36 columns):\n",
      " #   Column                    Non-Null Count  Dtype   \n",
      "---  ------                    --------------  -----   \n",
      " 0   loan_amnt                 39717 non-null  int64   \n",
      " 1   term                      39717 non-null  category\n",
      " 2   int_rate                  39717 non-null  float64 \n",
      " 3   installment               39717 non-null  float64 \n",
      " 4   grade                     39717 non-null  category\n",
      " 5   sub_grade                 39717 non-null  category\n",
      " 6   emp_title                 37258 non-null  object  \n",
      " 7   emp_length                38642 non-null  object  \n",
      " 8   home_ownership            39717 non-null  object  \n",
      " 9   annual_inc                39717 non-null  float64 \n",
      " 10  verification_status       39717 non-null  object  \n",
      " 11  issue_d                   39717 non-null  object  \n",
      " 12  loan_status               39717 non-null  object  \n",
      " 13  pymnt_plan                39717 non-null  object  \n",
      " 14  url                       39717 non-null  object  \n",
      " 15  desc                      26777 non-null  object  \n",
      " 16  purpose                   39717 non-null  object  \n",
      " 17  title                     39706 non-null  object  \n",
      " 18  zip_code                  39717 non-null  object  \n",
      " 19  addr_state                39717 non-null  object  \n",
      " 20  dti                       39717 non-null  float64 \n",
      " 21  earliest_cr_line          39717 non-null  object  \n",
      " 22  inq_last_6mths            39717 non-null  int64   \n",
      " 23  open_acc                  39717 non-null  int64   \n",
      " 24  pub_rec                   39717 non-null  int64   \n",
      " 25  revol_bal                 39717 non-null  int64   \n",
      " 26  revol_util                39667 non-null  object  \n",
      " 27  total_acc                 39717 non-null  int64   \n",
      " 28  initial_list_status       39717 non-null  object  \n",
      " 29  policy_code               39717 non-null  int64   \n",
      " 30  application_type          39717 non-null  object  \n",
      " 31  acc_now_delinq            39717 non-null  int64   \n",
      " 32  chargeoff_within_12_mths  39661 non-null  float64 \n",
      " 33  delinq_amnt               39717 non-null  int64   \n",
      " 34  pub_rec_bankruptcies      39020 non-null  float64 \n",
      " 35  tax_liens                 39678 non-null  float64 \n",
      "dtypes: category(3), float64(7), int64(9), object(17)\n",
      "memory usage: 10.1+ MB\n"
     ]
    }
   ],
   "source": [
    "loan_df2['sub_grade'] = loan_df2['sub_grade'].astype('category')\n",
    "loan_df2.info()"
   ]
  },
  {
   "cell_type": "code",
   "execution_count": 116,
   "id": "1eb06c20",
   "metadata": {},
   "outputs": [
    {
     "data": {
      "text/plain": [
       "US Army                                   134\n",
       "Bank of America                           109\n",
       "IBM                                        66\n",
       "AT&T                                       59\n",
       "Kaiser Permanente                          56\n",
       "                                         ... \n",
       "DOE/Vocational Rehabilitation Services      1\n",
       "EAM Partners  L.P.                          1\n",
       "Timothy Academy                             1\n",
       "Southwest Rural metro                       1\n",
       "OATI                                        1\n",
       "Name: emp_title, Length: 28820, dtype: int64"
      ]
     },
     "execution_count": 116,
     "metadata": {},
     "output_type": "execute_result"
    }
   ],
   "source": [
    "loan_df2['emp_title'].value_counts()"
   ]
  },
  {
   "cell_type": "markdown",
   "id": "345d9054",
   "metadata": {},
   "source": [
    "#### Observation\n",
    "* Values seems like a category\n",
    "#### Decision\n",
    "* let's change the type as 'category' for future analysis needs"
   ]
  },
  {
   "cell_type": "code",
   "execution_count": 117,
   "id": "a8039a4f",
   "metadata": {},
   "outputs": [
    {
     "name": "stdout",
     "output_type": "stream",
     "text": [
      "<class 'pandas.core.frame.DataFrame'>\n",
      "RangeIndex: 39717 entries, 0 to 39716\n",
      "Data columns (total 36 columns):\n",
      " #   Column                    Non-Null Count  Dtype   \n",
      "---  ------                    --------------  -----   \n",
      " 0   loan_amnt                 39717 non-null  int64   \n",
      " 1   term                      39717 non-null  category\n",
      " 2   int_rate                  39717 non-null  float64 \n",
      " 3   installment               39717 non-null  float64 \n",
      " 4   grade                     39717 non-null  category\n",
      " 5   sub_grade                 39717 non-null  category\n",
      " 6   emp_title                 37258 non-null  category\n",
      " 7   emp_length                38642 non-null  object  \n",
      " 8   home_ownership            39717 non-null  object  \n",
      " 9   annual_inc                39717 non-null  float64 \n",
      " 10  verification_status       39717 non-null  object  \n",
      " 11  issue_d                   39717 non-null  object  \n",
      " 12  loan_status               39717 non-null  object  \n",
      " 13  pymnt_plan                39717 non-null  object  \n",
      " 14  url                       39717 non-null  object  \n",
      " 15  desc                      26777 non-null  object  \n",
      " 16  purpose                   39717 non-null  object  \n",
      " 17  title                     39706 non-null  object  \n",
      " 18  zip_code                  39717 non-null  object  \n",
      " 19  addr_state                39717 non-null  object  \n",
      " 20  dti                       39717 non-null  float64 \n",
      " 21  earliest_cr_line          39717 non-null  object  \n",
      " 22  inq_last_6mths            39717 non-null  int64   \n",
      " 23  open_acc                  39717 non-null  int64   \n",
      " 24  pub_rec                   39717 non-null  int64   \n",
      " 25  revol_bal                 39717 non-null  int64   \n",
      " 26  revol_util                39667 non-null  object  \n",
      " 27  total_acc                 39717 non-null  int64   \n",
      " 28  initial_list_status       39717 non-null  object  \n",
      " 29  policy_code               39717 non-null  int64   \n",
      " 30  application_type          39717 non-null  object  \n",
      " 31  acc_now_delinq            39717 non-null  int64   \n",
      " 32  chargeoff_within_12_mths  39661 non-null  float64 \n",
      " 33  delinq_amnt               39717 non-null  int64   \n",
      " 34  pub_rec_bankruptcies      39020 non-null  float64 \n",
      " 35  tax_liens                 39678 non-null  float64 \n",
      "dtypes: category(4), float64(7), int64(9), object(16)\n",
      "memory usage: 11.1+ MB\n"
     ]
    }
   ],
   "source": [
    "loan_df2['emp_title'] = loan_df2['emp_title'].astype('category')\n",
    "loan_df2.info()"
   ]
  },
  {
   "cell_type": "code",
   "execution_count": 118,
   "id": "9c3cbc85",
   "metadata": {},
   "outputs": [
    {
     "data": {
      "text/plain": [
       "0        10+ years\n",
       "1         < 1 year\n",
       "2        10+ years\n",
       "3        10+ years\n",
       "4           1 year\n",
       "           ...    \n",
       "39712      4 years\n",
       "39713      3 years\n",
       "39714     < 1 year\n",
       "39715     < 1 year\n",
       "39716     < 1 year\n",
       "Name: emp_length, Length: 39717, dtype: object"
      ]
     },
     "execution_count": 118,
     "metadata": {},
     "output_type": "execute_result"
    }
   ],
   "source": [
    "loan_df2['emp_length']"
   ]
  },
  {
   "cell_type": "markdown",
   "id": "194c57c9",
   "metadata": {},
   "source": [
    "#### Observation\n",
    "* Values seem like ordered categorical type\n",
    "#### Decision\n",
    "* Change data type as 'category'"
   ]
  },
  {
   "cell_type": "code",
   "execution_count": 119,
   "id": "cb7cec48",
   "metadata": {},
   "outputs": [
    {
     "name": "stdout",
     "output_type": "stream",
     "text": [
      "<class 'pandas.core.frame.DataFrame'>\n",
      "RangeIndex: 39717 entries, 0 to 39716\n",
      "Data columns (total 36 columns):\n",
      " #   Column                    Non-Null Count  Dtype   \n",
      "---  ------                    --------------  -----   \n",
      " 0   loan_amnt                 39717 non-null  int64   \n",
      " 1   term                      39717 non-null  category\n",
      " 2   int_rate                  39717 non-null  float64 \n",
      " 3   installment               39717 non-null  float64 \n",
      " 4   grade                     39717 non-null  category\n",
      " 5   sub_grade                 39717 non-null  category\n",
      " 6   emp_title                 37258 non-null  category\n",
      " 7   emp_length                38642 non-null  category\n",
      " 8   home_ownership            39717 non-null  object  \n",
      " 9   annual_inc                39717 non-null  float64 \n",
      " 10  verification_status       39717 non-null  object  \n",
      " 11  issue_d                   39717 non-null  object  \n",
      " 12  loan_status               39717 non-null  object  \n",
      " 13  pymnt_plan                39717 non-null  object  \n",
      " 14  url                       39717 non-null  object  \n",
      " 15  desc                      26777 non-null  object  \n",
      " 16  purpose                   39717 non-null  object  \n",
      " 17  title                     39706 non-null  object  \n",
      " 18  zip_code                  39717 non-null  object  \n",
      " 19  addr_state                39717 non-null  object  \n",
      " 20  dti                       39717 non-null  float64 \n",
      " 21  earliest_cr_line          39717 non-null  object  \n",
      " 22  inq_last_6mths            39717 non-null  int64   \n",
      " 23  open_acc                  39717 non-null  int64   \n",
      " 24  pub_rec                   39717 non-null  int64   \n",
      " 25  revol_bal                 39717 non-null  int64   \n",
      " 26  revol_util                39667 non-null  object  \n",
      " 27  total_acc                 39717 non-null  int64   \n",
      " 28  initial_list_status       39717 non-null  object  \n",
      " 29  policy_code               39717 non-null  int64   \n",
      " 30  application_type          39717 non-null  object  \n",
      " 31  acc_now_delinq            39717 non-null  int64   \n",
      " 32  chargeoff_within_12_mths  39661 non-null  float64 \n",
      " 33  delinq_amnt               39717 non-null  int64   \n",
      " 34  pub_rec_bankruptcies      39020 non-null  float64 \n",
      " 35  tax_liens                 39678 non-null  float64 \n",
      "dtypes: category(5), float64(7), int64(9), object(15)\n",
      "memory usage: 10.9+ MB\n"
     ]
    }
   ],
   "source": [
    "loan_df2['emp_length'] = loan_df2['emp_length'].astype('category')\n",
    "loan_df2.info()"
   ]
  },
  {
   "cell_type": "code",
   "execution_count": 120,
   "id": "a155ca66",
   "metadata": {},
   "outputs": [
    {
     "data": {
      "text/plain": [
       "0            RENT\n",
       "1            RENT\n",
       "2            RENT\n",
       "3            RENT\n",
       "4            RENT\n",
       "           ...   \n",
       "39712    MORTGAGE\n",
       "39713        RENT\n",
       "39714    MORTGAGE\n",
       "39715    MORTGAGE\n",
       "39716         OWN\n",
       "Name: home_ownership, Length: 39717, dtype: object"
      ]
     },
     "execution_count": 120,
     "metadata": {},
     "output_type": "execute_result"
    }
   ],
   "source": [
    "loan_df2['home_ownership']"
   ]
  },
  {
   "cell_type": "markdown",
   "id": "c18547f2",
   "metadata": {},
   "source": [
    "#### Observation\n",
    "* Values seem like categorical\n",
    "#### Decision\n",
    "* Let's change the data type as 'category'"
   ]
  },
  {
   "cell_type": "code",
   "execution_count": 121,
   "id": "6e02bb08",
   "metadata": {},
   "outputs": [
    {
     "name": "stdout",
     "output_type": "stream",
     "text": [
      "<class 'pandas.core.frame.DataFrame'>\n",
      "RangeIndex: 39717 entries, 0 to 39716\n",
      "Data columns (total 36 columns):\n",
      " #   Column                    Non-Null Count  Dtype   \n",
      "---  ------                    --------------  -----   \n",
      " 0   loan_amnt                 39717 non-null  int64   \n",
      " 1   term                      39717 non-null  category\n",
      " 2   int_rate                  39717 non-null  float64 \n",
      " 3   installment               39717 non-null  float64 \n",
      " 4   grade                     39717 non-null  category\n",
      " 5   sub_grade                 39717 non-null  category\n",
      " 6   emp_title                 37258 non-null  category\n",
      " 7   emp_length                38642 non-null  category\n",
      " 8   home_ownership            39717 non-null  category\n",
      " 9   annual_inc                39717 non-null  float64 \n",
      " 10  verification_status       39717 non-null  object  \n",
      " 11  issue_d                   39717 non-null  object  \n",
      " 12  loan_status               39717 non-null  object  \n",
      " 13  pymnt_plan                39717 non-null  object  \n",
      " 14  url                       39717 non-null  object  \n",
      " 15  desc                      26777 non-null  object  \n",
      " 16  purpose                   39717 non-null  object  \n",
      " 17  title                     39706 non-null  object  \n",
      " 18  zip_code                  39717 non-null  object  \n",
      " 19  addr_state                39717 non-null  object  \n",
      " 20  dti                       39717 non-null  float64 \n",
      " 21  earliest_cr_line          39717 non-null  object  \n",
      " 22  inq_last_6mths            39717 non-null  int64   \n",
      " 23  open_acc                  39717 non-null  int64   \n",
      " 24  pub_rec                   39717 non-null  int64   \n",
      " 25  revol_bal                 39717 non-null  int64   \n",
      " 26  revol_util                39667 non-null  object  \n",
      " 27  total_acc                 39717 non-null  int64   \n",
      " 28  initial_list_status       39717 non-null  object  \n",
      " 29  policy_code               39717 non-null  int64   \n",
      " 30  application_type          39717 non-null  object  \n",
      " 31  acc_now_delinq            39717 non-null  int64   \n",
      " 32  chargeoff_within_12_mths  39661 non-null  float64 \n",
      " 33  delinq_amnt               39717 non-null  int64   \n",
      " 34  pub_rec_bankruptcies      39020 non-null  float64 \n",
      " 35  tax_liens                 39678 non-null  float64 \n",
      "dtypes: category(6), float64(7), int64(9), object(14)\n",
      "memory usage: 10.6+ MB\n"
     ]
    }
   ],
   "source": [
    "loan_df2['home_ownership'] = loan_df2['home_ownership'].astype('category')\n",
    "loan_df2.info()"
   ]
  },
  {
   "cell_type": "code",
   "execution_count": 122,
   "id": "55614297",
   "metadata": {},
   "outputs": [
    {
     "data": {
      "text/plain": [
       "0               Verified\n",
       "1        Source Verified\n",
       "2           Not Verified\n",
       "3        Source Verified\n",
       "4        Source Verified\n",
       "              ...       \n",
       "39712       Not Verified\n",
       "39713       Not Verified\n",
       "39714       Not Verified\n",
       "39715       Not Verified\n",
       "39716       Not Verified\n",
       "Name: verification_status, Length: 39717, dtype: object"
      ]
     },
     "execution_count": 122,
     "metadata": {},
     "output_type": "execute_result"
    }
   ],
   "source": [
    "loan_df2['verification_status']"
   ]
  },
  {
   "cell_type": "markdown",
   "id": "7f6bb4af",
   "metadata": {},
   "source": [
    "#### Observation\n",
    "* Data seems like categorical in nature\n",
    "#### Decision\n",
    "* Let's change the type as 'category'"
   ]
  },
  {
   "cell_type": "code",
   "execution_count": 123,
   "id": "07451683",
   "metadata": {},
   "outputs": [
    {
     "name": "stdout",
     "output_type": "stream",
     "text": [
      "<class 'pandas.core.frame.DataFrame'>\n",
      "RangeIndex: 39717 entries, 0 to 39716\n",
      "Data columns (total 36 columns):\n",
      " #   Column                    Non-Null Count  Dtype   \n",
      "---  ------                    --------------  -----   \n",
      " 0   loan_amnt                 39717 non-null  int64   \n",
      " 1   term                      39717 non-null  category\n",
      " 2   int_rate                  39717 non-null  float64 \n",
      " 3   installment               39717 non-null  float64 \n",
      " 4   grade                     39717 non-null  category\n",
      " 5   sub_grade                 39717 non-null  category\n",
      " 6   emp_title                 37258 non-null  category\n",
      " 7   emp_length                38642 non-null  category\n",
      " 8   home_ownership            39717 non-null  category\n",
      " 9   annual_inc                39717 non-null  float64 \n",
      " 10  verification_status       39717 non-null  category\n",
      " 11  issue_d                   39717 non-null  object  \n",
      " 12  loan_status               39717 non-null  object  \n",
      " 13  pymnt_plan                39717 non-null  object  \n",
      " 14  url                       39717 non-null  object  \n",
      " 15  desc                      26777 non-null  object  \n",
      " 16  purpose                   39717 non-null  object  \n",
      " 17  title                     39706 non-null  object  \n",
      " 18  zip_code                  39717 non-null  object  \n",
      " 19  addr_state                39717 non-null  object  \n",
      " 20  dti                       39717 non-null  float64 \n",
      " 21  earliest_cr_line          39717 non-null  object  \n",
      " 22  inq_last_6mths            39717 non-null  int64   \n",
      " 23  open_acc                  39717 non-null  int64   \n",
      " 24  pub_rec                   39717 non-null  int64   \n",
      " 25  revol_bal                 39717 non-null  int64   \n",
      " 26  revol_util                39667 non-null  object  \n",
      " 27  total_acc                 39717 non-null  int64   \n",
      " 28  initial_list_status       39717 non-null  object  \n",
      " 29  policy_code               39717 non-null  int64   \n",
      " 30  application_type          39717 non-null  object  \n",
      " 31  acc_now_delinq            39717 non-null  int64   \n",
      " 32  chargeoff_within_12_mths  39661 non-null  float64 \n",
      " 33  delinq_amnt               39717 non-null  int64   \n",
      " 34  pub_rec_bankruptcies      39020 non-null  float64 \n",
      " 35  tax_liens                 39678 non-null  float64 \n",
      "dtypes: category(7), float64(7), int64(9), object(13)\n",
      "memory usage: 10.3+ MB\n"
     ]
    }
   ],
   "source": [
    "loan_df2['verification_status'] = loan_df2['verification_status'].astype('category')\n",
    "loan_df2.info()"
   ]
  },
  {
   "cell_type": "markdown",
   "id": "47dbcd2e",
   "metadata": {},
   "source": [
    "#### Assumption: \n",
    "* column 'issue_d' is related to start of loan; it may not be relevant\n",
    "#### Decision\n",
    "* let's leave it asis for now"
   ]
  },
  {
   "cell_type": "code",
   "execution_count": 124,
   "id": "719442e4",
   "metadata": {},
   "outputs": [
    {
     "data": {
      "text/plain": [
       "0         Fully Paid\n",
       "1        Charged Off\n",
       "2         Fully Paid\n",
       "3         Fully Paid\n",
       "4            Current\n",
       "            ...     \n",
       "39712     Fully Paid\n",
       "39713     Fully Paid\n",
       "39714     Fully Paid\n",
       "39715     Fully Paid\n",
       "39716     Fully Paid\n",
       "Name: loan_status, Length: 39717, dtype: object"
      ]
     },
     "execution_count": 124,
     "metadata": {},
     "output_type": "execute_result"
    }
   ],
   "source": [
    "loan_df2['loan_status']"
   ]
  },
  {
   "cell_type": "markdown",
   "id": "a78d3c83",
   "metadata": {},
   "source": [
    "#### Observation\n",
    "* Values seems like category\n",
    "\n",
    "#### Decision\n",
    "* let's convert as 'category'"
   ]
  },
  {
   "cell_type": "code",
   "execution_count": 125,
   "id": "1fed7830",
   "metadata": {},
   "outputs": [
    {
     "name": "stdout",
     "output_type": "stream",
     "text": [
      "<class 'pandas.core.frame.DataFrame'>\n",
      "RangeIndex: 39717 entries, 0 to 39716\n",
      "Data columns (total 36 columns):\n",
      " #   Column                    Non-Null Count  Dtype   \n",
      "---  ------                    --------------  -----   \n",
      " 0   loan_amnt                 39717 non-null  int64   \n",
      " 1   term                      39717 non-null  category\n",
      " 2   int_rate                  39717 non-null  float64 \n",
      " 3   installment               39717 non-null  float64 \n",
      " 4   grade                     39717 non-null  category\n",
      " 5   sub_grade                 39717 non-null  category\n",
      " 6   emp_title                 37258 non-null  category\n",
      " 7   emp_length                38642 non-null  category\n",
      " 8   home_ownership            39717 non-null  category\n",
      " 9   annual_inc                39717 non-null  float64 \n",
      " 10  verification_status       39717 non-null  category\n",
      " 11  issue_d                   39717 non-null  object  \n",
      " 12  loan_status               39717 non-null  category\n",
      " 13  pymnt_plan                39717 non-null  object  \n",
      " 14  url                       39717 non-null  object  \n",
      " 15  desc                      26777 non-null  object  \n",
      " 16  purpose                   39717 non-null  object  \n",
      " 17  title                     39706 non-null  object  \n",
      " 18  zip_code                  39717 non-null  object  \n",
      " 19  addr_state                39717 non-null  object  \n",
      " 20  dti                       39717 non-null  float64 \n",
      " 21  earliest_cr_line          39717 non-null  object  \n",
      " 22  inq_last_6mths            39717 non-null  int64   \n",
      " 23  open_acc                  39717 non-null  int64   \n",
      " 24  pub_rec                   39717 non-null  int64   \n",
      " 25  revol_bal                 39717 non-null  int64   \n",
      " 26  revol_util                39667 non-null  object  \n",
      " 27  total_acc                 39717 non-null  int64   \n",
      " 28  initial_list_status       39717 non-null  object  \n",
      " 29  policy_code               39717 non-null  int64   \n",
      " 30  application_type          39717 non-null  object  \n",
      " 31  acc_now_delinq            39717 non-null  int64   \n",
      " 32  chargeoff_within_12_mths  39661 non-null  float64 \n",
      " 33  delinq_amnt               39717 non-null  int64   \n",
      " 34  pub_rec_bankruptcies      39020 non-null  float64 \n",
      " 35  tax_liens                 39678 non-null  float64 \n",
      "dtypes: category(8), float64(7), int64(9), object(12)\n",
      "memory usage: 10.1+ MB\n"
     ]
    }
   ],
   "source": [
    "loan_df2['loan_status'] = loan_df2['loan_status'].astype('category')\n",
    "loan_df2.info()"
   ]
  },
  {
   "cell_type": "code",
   "execution_count": 126,
   "id": "1e31cf4c",
   "metadata": {},
   "outputs": [
    {
     "data": {
      "text/plain": [
       "n    39717\n",
       "Name: pymnt_plan, dtype: int64"
      ]
     },
     "execution_count": 126,
     "metadata": {},
     "output_type": "execute_result"
    }
   ],
   "source": [
    "loan_df2['pymnt_plan'].value_counts()"
   ]
  },
  {
   "cell_type": "markdown",
   "id": "4d183c55",
   "metadata": {},
   "source": [
    "#### Observation\n",
    "* all values are same\n",
    "\n",
    "#### Decision\n",
    "Let's drop this column"
   ]
  },
  {
   "cell_type": "code",
   "execution_count": 127,
   "id": "541b62a8",
   "metadata": {},
   "outputs": [
    {
     "name": "stdout",
     "output_type": "stream",
     "text": [
      "<class 'pandas.core.frame.DataFrame'>\n",
      "RangeIndex: 39717 entries, 0 to 39716\n",
      "Data columns (total 35 columns):\n",
      " #   Column                    Non-Null Count  Dtype   \n",
      "---  ------                    --------------  -----   \n",
      " 0   loan_amnt                 39717 non-null  int64   \n",
      " 1   term                      39717 non-null  category\n",
      " 2   int_rate                  39717 non-null  float64 \n",
      " 3   installment               39717 non-null  float64 \n",
      " 4   grade                     39717 non-null  category\n",
      " 5   sub_grade                 39717 non-null  category\n",
      " 6   emp_title                 37258 non-null  category\n",
      " 7   emp_length                38642 non-null  category\n",
      " 8   home_ownership            39717 non-null  category\n",
      " 9   annual_inc                39717 non-null  float64 \n",
      " 10  verification_status       39717 non-null  category\n",
      " 11  issue_d                   39717 non-null  object  \n",
      " 12  loan_status               39717 non-null  category\n",
      " 13  url                       39717 non-null  object  \n",
      " 14  desc                      26777 non-null  object  \n",
      " 15  purpose                   39717 non-null  object  \n",
      " 16  title                     39706 non-null  object  \n",
      " 17  zip_code                  39717 non-null  object  \n",
      " 18  addr_state                39717 non-null  object  \n",
      " 19  dti                       39717 non-null  float64 \n",
      " 20  earliest_cr_line          39717 non-null  object  \n",
      " 21  inq_last_6mths            39717 non-null  int64   \n",
      " 22  open_acc                  39717 non-null  int64   \n",
      " 23  pub_rec                   39717 non-null  int64   \n",
      " 24  revol_bal                 39717 non-null  int64   \n",
      " 25  revol_util                39667 non-null  object  \n",
      " 26  total_acc                 39717 non-null  int64   \n",
      " 27  initial_list_status       39717 non-null  object  \n",
      " 28  policy_code               39717 non-null  int64   \n",
      " 29  application_type          39717 non-null  object  \n",
      " 30  acc_now_delinq            39717 non-null  int64   \n",
      " 31  chargeoff_within_12_mths  39661 non-null  float64 \n",
      " 32  delinq_amnt               39717 non-null  int64   \n",
      " 33  pub_rec_bankruptcies      39020 non-null  float64 \n",
      " 34  tax_liens                 39678 non-null  float64 \n",
      "dtypes: category(8), float64(7), int64(9), object(11)\n",
      "memory usage: 9.8+ MB\n"
     ]
    }
   ],
   "source": [
    "loan_df2 = loan_df2.drop(columns=['pymnt_plan'])\n",
    "loan_df2.info()"
   ]
  },
  {
   "cell_type": "code",
   "execution_count": 128,
   "id": "39a45328",
   "metadata": {},
   "outputs": [
    {
     "data": {
      "text/plain": [
       "https://lendingclub.com/browse/loanDetail.action?loan_id=771628     1\n",
       "https://lendingclub.com/browse/loanDetail.action?loan_id=1066835    1\n",
       "https://lendingclub.com/browse/loanDetail.action?loan_id=1043274    1\n",
       "https://lendingclub.com/browse/loanDetail.action?loan_id=779618     1\n",
       "https://lendingclub.com/browse/loanDetail.action?loan_id=570266     1\n",
       "                                                                   ..\n",
       "https://lendingclub.com/browse/loanDetail.action?loan_id=715333     1\n",
       "https://lendingclub.com/browse/loanDetail.action?loan_id=1033669    1\n",
       "https://lendingclub.com/browse/loanDetail.action?loan_id=478103     1\n",
       "https://lendingclub.com/browse/loanDetail.action?loan_id=601964     1\n",
       "https://lendingclub.com/browse/loanDetail.action?loan_id=827374     1\n",
       "Name: url, Length: 39717, dtype: int64"
      ]
     },
     "execution_count": 128,
     "metadata": {},
     "output_type": "execute_result"
    }
   ],
   "source": [
    "loan_df2['url'].value_counts()"
   ]
  },
  {
   "cell_type": "markdown",
   "id": "2233a430",
   "metadata": {},
   "source": [
    "#### Observation\n",
    "* Seems like being used for tracking the loan application\n",
    "\n",
    "#### Assumption\n",
    "* Not useful for analyzing the application\n",
    "\n",
    "#### Decision\n",
    "* Let's drop this column"
   ]
  },
  {
   "cell_type": "code",
   "execution_count": 129,
   "id": "2c961d36",
   "metadata": {},
   "outputs": [
    {
     "name": "stdout",
     "output_type": "stream",
     "text": [
      "<class 'pandas.core.frame.DataFrame'>\n",
      "RangeIndex: 39717 entries, 0 to 39716\n",
      "Data columns (total 34 columns):\n",
      " #   Column                    Non-Null Count  Dtype   \n",
      "---  ------                    --------------  -----   \n",
      " 0   loan_amnt                 39717 non-null  int64   \n",
      " 1   term                      39717 non-null  category\n",
      " 2   int_rate                  39717 non-null  float64 \n",
      " 3   installment               39717 non-null  float64 \n",
      " 4   grade                     39717 non-null  category\n",
      " 5   sub_grade                 39717 non-null  category\n",
      " 6   emp_title                 37258 non-null  category\n",
      " 7   emp_length                38642 non-null  category\n",
      " 8   home_ownership            39717 non-null  category\n",
      " 9   annual_inc                39717 non-null  float64 \n",
      " 10  verification_status       39717 non-null  category\n",
      " 11  issue_d                   39717 non-null  object  \n",
      " 12  loan_status               39717 non-null  category\n",
      " 13  desc                      26777 non-null  object  \n",
      " 14  purpose                   39717 non-null  object  \n",
      " 15  title                     39706 non-null  object  \n",
      " 16  zip_code                  39717 non-null  object  \n",
      " 17  addr_state                39717 non-null  object  \n",
      " 18  dti                       39717 non-null  float64 \n",
      " 19  earliest_cr_line          39717 non-null  object  \n",
      " 20  inq_last_6mths            39717 non-null  int64   \n",
      " 21  open_acc                  39717 non-null  int64   \n",
      " 22  pub_rec                   39717 non-null  int64   \n",
      " 23  revol_bal                 39717 non-null  int64   \n",
      " 24  revol_util                39667 non-null  object  \n",
      " 25  total_acc                 39717 non-null  int64   \n",
      " 26  initial_list_status       39717 non-null  object  \n",
      " 27  policy_code               39717 non-null  int64   \n",
      " 28  application_type          39717 non-null  object  \n",
      " 29  acc_now_delinq            39717 non-null  int64   \n",
      " 30  chargeoff_within_12_mths  39661 non-null  float64 \n",
      " 31  delinq_amnt               39717 non-null  int64   \n",
      " 32  pub_rec_bankruptcies      39020 non-null  float64 \n",
      " 33  tax_liens                 39678 non-null  float64 \n",
      "dtypes: category(8), float64(7), int64(9), object(10)\n",
      "memory usage: 9.4+ MB\n"
     ]
    }
   ],
   "source": [
    "loan_df2 = loan_df2.drop(columns=['url'])\n",
    "loan_df2.info()"
   ]
  },
  {
   "cell_type": "code",
   "execution_count": 130,
   "id": "20b06ff6",
   "metadata": {},
   "outputs": [
    {
     "data": {
      "text/plain": [
       "                                                                                                                                                                                                                                                                                                                                                                                                                                                                                                                                                                                                                                                                                                                                                                                                                                                                                                                                                                                                                                                                                                                                                                                                                                                                                                                                                                                                                                                                                                                                                                                                                                                                                                                                                   210\n",
       "Debt Consolidation                                                                                                                                                                                                                                                                                                                                                                                                                                                                                                                                                                                                                                                                                                                                                                                                                                                                                                                                                                                                                                                                                                                                                                                                                                                                                                                                                                                                                                                                                                                                                                                                                                                                                                                                   8\n",
       "Camping Membership                                                                                                                                                                                                                                                                                                                                                                                                                                                                                                                                                                                                                                                                                                                                                                                                                                                                                                                                                                                                                                                                                                                                                                                                                                                                                                                                                                                                                                                                                                                                                                                                                                                                                                                                   6\n",
       "personal loan                                                                                                                                                                                                                                                                                                                                                                                                                                                                                                                                                                                                                                                                                                                                                                                                                                                                                                                                                                                                                                                                                                                                                                                                                                                                                                                                                                                                                                                                                                                                                                                                                                                                                                                                        3\n",
       "credit card consolidation                                                                                                                                                                                                                                                                                                                                                                                                                                                                                                                                                                                                                                                                                                                                                                                                                                                                                                                                                                                                                                                                                                                                                                                                                                                                                                                                                                                                                                                                                                                                                                                                                                                                                                                            3\n",
       "                                                                                                                                                                                                                                                                                                                                                                                                                                                                                                                                                                                                                                                                                                                                                                                                                                                                                                                                                                                                                                                                                                                                                                                                                                                                                                                                                                                                                                                                                                                                                                                                                                                                                                                                                  ... \n",
       "I am trying to to consolidate and lower interest payments on the following debt:  Discover Credit Card: ~$3,200 @ 16.49%  Navy Federal Consumer Loan: ~$4,000 @ 12% Navy Federal Credit Card: ~$5,000 @ 9.65%  This loan will pay off the Discover Card and loan first, because they have the higher APRs.  The remainder will go towards the Navy Federal Card, and obviously I'll have to tackle the rest of it myself.  I stopped at $10,400 because any higher and the interest rate increased significantly.  I am a military veteran that is working full time and going to school full time as well.  I expect to service this loan for the entire 3 year period, because I am also trying to save up an emergency fund, but I also try to budget well in advance for such things as my daughter's birthday and Xmas too.  My income is double what is listed in my profile, because I receive GI Bill housing allowances ($2,000 per month).  Unfortunately I entered my work income only and afterward realized I couldn't edit it.  It's just about impossible to match the interest rates here, so I am very serious about getting this loan funded.  Please ask any questions you may have.  Thanks.                                                                                                                                                                                                                                                                                                                                                                                                                                                                                                                                     1\n",
       "  Borrower added on 12/06/11 > I am consolidating a loan and higher interest credit card debt.  In my time of borrowing, I have never defaulted.  I have trimmed my monthly expenses and will continue to keep my finances in tight rein.  I have been with the same company for almost a decade.<br>                                                                                                                                                                                                                                                                                                                                                                                                                                                                                                                                                                                                                                                                                                                                                                                                                                                                                                                                                                                                                                                                                                                                                                                                                                                                                                                                                                                                                                                1\n",
       "  Borrower added on 10/20/10 > I'm getting married within a year and I want to surprise my fianc&eacute; with a brand new bathroom and kitchen! I truly appreciate your investment. Thank you so much!<br/> Borrower added on 10/20/10 > Furthermore, I am a great candidate for this loan because I never missed a payment on a credit card or anytime on my mortgage.<br/> Borrower added on 10/22/10 > Presently, other than my mortgage and few other monthly expenditures, I do not have any costly expenses (I don&rsquo;t have a car). Thus, this loan from Lending Club would be very easy for me to pay for on a monthly basis!<br/> Borrower added on 10/23/10 > My Monthly Expenses:<br/>Mortgage: $992<br/>Electric: $70-$100<br/>Cable TV/Internet: $125<br/>Cell Phone: $80<br/>Credit Card #1: $100-$200 (approx. $5,000 balance remaining; 8.24% APR)<br/>Credit Card #2: $100-$200 (approx. $7,000 balance remaining; 7.21% APR)<br/>Raymour &amp; Flanigan Furniture Credit Line: $150 (approx. $2,500 remaining) <br/><br/>Savings:<br/>Savings Account: $7,000+<br/>401K: $60,000 (Eligible for a 401K loan via my employer; I can rely on 50% of these funds if necessary) <br/>Fidelity Investments: $5,000+<br/><br/>I live with my fianc&eacute; who is a registered nurse at a hospital. Her annual salary is $75,000. Our combined income is $175,000 (excluding my bonus).  My annual bonus ranges from $15,000-$25,000.<br/><br/>I&rsquo;m a senior investigator at FINRA (previously known as NASD) and work with attorneys to help combat fraud on Wall Street. I have been working there for about 6 years.<br/><br/>I have no other loans or debts of any kind. I have never missed a payment of any kind.<br/>      1\n",
       "The Loan will be used to set up Market Neutral Option Spreads (Iron Condors and Credit Spreads). These spreads usually generate between 10-15% returns per month. The positions are low-stress and low maintenance positions. I will be utilizing a service that will help me in choosing the option spreads with the best probability of profit. There will be losing positions but usually not a losing month                                                                                                                                                                                                                                                                                                                                                                                                                                                                                                                                                                                                                                                                                                                                                                                                                                                                                                                                                                                                                                                                                                                                                                                                                                                                                                                                      1\n",
       "  Borrower added on 08/30/11 > Funding will be used for home improvements and debt consolidation.<br/>                                                                                                                                                                                                                                                                                                                                                                                                                                                                                                                                                                                                                                                                                                                                                                                                                                                                                                                                                                                                                                                                                                                                                                                                                                                                                                                                                                                                                                                                                                                                                                                                                                               1\n",
       "Name: desc, Length: 26527, dtype: int64"
      ]
     },
     "execution_count": 130,
     "metadata": {},
     "output_type": "execute_result"
    }
   ],
   "source": [
    "loan_df2['desc'].value_counts()"
   ]
  },
  {
   "cell_type": "markdown",
   "id": "1340b44f",
   "metadata": {},
   "source": [
    "#### Observation\n",
    "* Details are description about loan\n",
    "\n",
    "#### Assumption\n",
    "* These details are elaboraton beyond purpose of loan; it may be out of scope for EDA\n",
    "\n",
    "#### Decision\n",
    "* let's drop this column"
   ]
  },
  {
   "cell_type": "code",
   "execution_count": 131,
   "id": "e53a060d",
   "metadata": {},
   "outputs": [
    {
     "name": "stdout",
     "output_type": "stream",
     "text": [
      "<class 'pandas.core.frame.DataFrame'>\n",
      "RangeIndex: 39717 entries, 0 to 39716\n",
      "Data columns (total 33 columns):\n",
      " #   Column                    Non-Null Count  Dtype   \n",
      "---  ------                    --------------  -----   \n",
      " 0   loan_amnt                 39717 non-null  int64   \n",
      " 1   term                      39717 non-null  category\n",
      " 2   int_rate                  39717 non-null  float64 \n",
      " 3   installment               39717 non-null  float64 \n",
      " 4   grade                     39717 non-null  category\n",
      " 5   sub_grade                 39717 non-null  category\n",
      " 6   emp_title                 37258 non-null  category\n",
      " 7   emp_length                38642 non-null  category\n",
      " 8   home_ownership            39717 non-null  category\n",
      " 9   annual_inc                39717 non-null  float64 \n",
      " 10  verification_status       39717 non-null  category\n",
      " 11  issue_d                   39717 non-null  object  \n",
      " 12  loan_status               39717 non-null  category\n",
      " 13  purpose                   39717 non-null  object  \n",
      " 14  title                     39706 non-null  object  \n",
      " 15  zip_code                  39717 non-null  object  \n",
      " 16  addr_state                39717 non-null  object  \n",
      " 17  dti                       39717 non-null  float64 \n",
      " 18  earliest_cr_line          39717 non-null  object  \n",
      " 19  inq_last_6mths            39717 non-null  int64   \n",
      " 20  open_acc                  39717 non-null  int64   \n",
      " 21  pub_rec                   39717 non-null  int64   \n",
      " 22  revol_bal                 39717 non-null  int64   \n",
      " 23  revol_util                39667 non-null  object  \n",
      " 24  total_acc                 39717 non-null  int64   \n",
      " 25  initial_list_status       39717 non-null  object  \n",
      " 26  policy_code               39717 non-null  int64   \n",
      " 27  application_type          39717 non-null  object  \n",
      " 28  acc_now_delinq            39717 non-null  int64   \n",
      " 29  chargeoff_within_12_mths  39661 non-null  float64 \n",
      " 30  delinq_amnt               39717 non-null  int64   \n",
      " 31  pub_rec_bankruptcies      39020 non-null  float64 \n",
      " 32  tax_liens                 39678 non-null  float64 \n",
      "dtypes: category(8), float64(7), int64(9), object(9)\n",
      "memory usage: 9.1+ MB\n"
     ]
    }
   ],
   "source": [
    "loan_df2 = loan_df2.drop(columns=['desc'])\n",
    "loan_df2.info()"
   ]
  },
  {
   "cell_type": "code",
   "execution_count": 132,
   "id": "a4e13d96",
   "metadata": {},
   "outputs": [
    {
     "data": {
      "text/plain": [
       "debt_consolidation    18641\n",
       "credit_card            5130\n",
       "other                  3993\n",
       "home_improvement       2976\n",
       "major_purchase         2187\n",
       "small_business         1828\n",
       "car                    1549\n",
       "wedding                 947\n",
       "medical                 693\n",
       "moving                  583\n",
       "vacation                381\n",
       "house                   381\n",
       "educational             325\n",
       "renewable_energy        103\n",
       "Name: purpose, dtype: int64"
      ]
     },
     "execution_count": 132,
     "metadata": {},
     "output_type": "execute_result"
    }
   ],
   "source": [
    "loan_df2['purpose'].value_counts()"
   ]
  },
  {
   "cell_type": "markdown",
   "id": "6e5f95b6",
   "metadata": {},
   "source": [
    "#### Observation\n",
    "* Seems like category\n",
    "\n",
    "#### Decision\n",
    "* Let's change the type as 'category'"
   ]
  },
  {
   "cell_type": "code",
   "execution_count": 133,
   "id": "b8cdf917",
   "metadata": {},
   "outputs": [
    {
     "name": "stdout",
     "output_type": "stream",
     "text": [
      "<class 'pandas.core.frame.DataFrame'>\n",
      "RangeIndex: 39717 entries, 0 to 39716\n",
      "Data columns (total 33 columns):\n",
      " #   Column                    Non-Null Count  Dtype   \n",
      "---  ------                    --------------  -----   \n",
      " 0   loan_amnt                 39717 non-null  int64   \n",
      " 1   term                      39717 non-null  category\n",
      " 2   int_rate                  39717 non-null  float64 \n",
      " 3   installment               39717 non-null  float64 \n",
      " 4   grade                     39717 non-null  category\n",
      " 5   sub_grade                 39717 non-null  category\n",
      " 6   emp_title                 37258 non-null  category\n",
      " 7   emp_length                38642 non-null  category\n",
      " 8   home_ownership            39717 non-null  category\n",
      " 9   annual_inc                39717 non-null  float64 \n",
      " 10  verification_status       39717 non-null  category\n",
      " 11  issue_d                   39717 non-null  object  \n",
      " 12  loan_status               39717 non-null  category\n",
      " 13  purpose                   39717 non-null  category\n",
      " 14  title                     39706 non-null  object  \n",
      " 15  zip_code                  39717 non-null  object  \n",
      " 16  addr_state                39717 non-null  object  \n",
      " 17  dti                       39717 non-null  float64 \n",
      " 18  earliest_cr_line          39717 non-null  object  \n",
      " 19  inq_last_6mths            39717 non-null  int64   \n",
      " 20  open_acc                  39717 non-null  int64   \n",
      " 21  pub_rec                   39717 non-null  int64   \n",
      " 22  revol_bal                 39717 non-null  int64   \n",
      " 23  revol_util                39667 non-null  object  \n",
      " 24  total_acc                 39717 non-null  int64   \n",
      " 25  initial_list_status       39717 non-null  object  \n",
      " 26  policy_code               39717 non-null  int64   \n",
      " 27  application_type          39717 non-null  object  \n",
      " 28  acc_now_delinq            39717 non-null  int64   \n",
      " 29  chargeoff_within_12_mths  39661 non-null  float64 \n",
      " 30  delinq_amnt               39717 non-null  int64   \n",
      " 31  pub_rec_bankruptcies      39020 non-null  float64 \n",
      " 32  tax_liens                 39678 non-null  float64 \n",
      "dtypes: category(9), float64(7), int64(9), object(8)\n",
      "memory usage: 8.9+ MB\n"
     ]
    }
   ],
   "source": [
    "loan_df2['purpose'] = loan_df2['purpose'].astype('category')\n",
    "loan_df2.info()"
   ]
  },
  {
   "cell_type": "code",
   "execution_count": 134,
   "id": "5e0090fe",
   "metadata": {},
   "outputs": [
    {
     "data": {
      "text/plain": [
       "Debt Consolidation           2184\n",
       "Debt Consolidation Loan      1729\n",
       "Personal Loan                 659\n",
       "Consolidation                 517\n",
       "debt consolidation            505\n",
       "                             ... \n",
       "Fresh Start with a Spin         1\n",
       "îîMY FIRST CAR îî       1\n",
       "Mperreault                      1\n",
       "Shop/Toy Garage                 1\n",
       "Gap Card Loan                   1\n",
       "Name: title, Length: 19615, dtype: int64"
      ]
     },
     "execution_count": 134,
     "metadata": {},
     "output_type": "execute_result"
    }
   ],
   "source": [
    "loan_df2['title'].value_counts()"
   ]
  },
  {
   "cell_type": "markdown",
   "id": "58dfd01b",
   "metadata": {},
   "source": [
    "#### Observation\n",
    "* Seems like alternate or similar to 'purpose' column\n",
    "\n",
    "#### Decision\n",
    "* Let's drop the column"
   ]
  },
  {
   "cell_type": "code",
   "execution_count": 135,
   "id": "dc9a3eec",
   "metadata": {},
   "outputs": [
    {
     "name": "stdout",
     "output_type": "stream",
     "text": [
      "<class 'pandas.core.frame.DataFrame'>\n",
      "RangeIndex: 39717 entries, 0 to 39716\n",
      "Data columns (total 32 columns):\n",
      " #   Column                    Non-Null Count  Dtype   \n",
      "---  ------                    --------------  -----   \n",
      " 0   loan_amnt                 39717 non-null  int64   \n",
      " 1   term                      39717 non-null  category\n",
      " 2   int_rate                  39717 non-null  float64 \n",
      " 3   installment               39717 non-null  float64 \n",
      " 4   grade                     39717 non-null  category\n",
      " 5   sub_grade                 39717 non-null  category\n",
      " 6   emp_title                 37258 non-null  category\n",
      " 7   emp_length                38642 non-null  category\n",
      " 8   home_ownership            39717 non-null  category\n",
      " 9   annual_inc                39717 non-null  float64 \n",
      " 10  verification_status       39717 non-null  category\n",
      " 11  issue_d                   39717 non-null  object  \n",
      " 12  loan_status               39717 non-null  category\n",
      " 13  purpose                   39717 non-null  category\n",
      " 14  zip_code                  39717 non-null  object  \n",
      " 15  addr_state                39717 non-null  object  \n",
      " 16  dti                       39717 non-null  float64 \n",
      " 17  earliest_cr_line          39717 non-null  object  \n",
      " 18  inq_last_6mths            39717 non-null  int64   \n",
      " 19  open_acc                  39717 non-null  int64   \n",
      " 20  pub_rec                   39717 non-null  int64   \n",
      " 21  revol_bal                 39717 non-null  int64   \n",
      " 22  revol_util                39667 non-null  object  \n",
      " 23  total_acc                 39717 non-null  int64   \n",
      " 24  initial_list_status       39717 non-null  object  \n",
      " 25  policy_code               39717 non-null  int64   \n",
      " 26  application_type          39717 non-null  object  \n",
      " 27  acc_now_delinq            39717 non-null  int64   \n",
      " 28  chargeoff_within_12_mths  39661 non-null  float64 \n",
      " 29  delinq_amnt               39717 non-null  int64   \n",
      " 30  pub_rec_bankruptcies      39020 non-null  float64 \n",
      " 31  tax_liens                 39678 non-null  float64 \n",
      "dtypes: category(9), float64(7), int64(9), object(7)\n",
      "memory usage: 8.6+ MB\n"
     ]
    }
   ],
   "source": [
    "loan_df2 = loan_df2.drop(columns=['title'])\n",
    "loan_df2.info()"
   ]
  },
  {
   "cell_type": "code",
   "execution_count": 136,
   "id": "d0cce9cd",
   "metadata": {},
   "outputs": [
    {
     "data": {
      "text/html": [
       "<div>\n",
       "<style scoped>\n",
       "    .dataframe tbody tr th:only-of-type {\n",
       "        vertical-align: middle;\n",
       "    }\n",
       "\n",
       "    .dataframe tbody tr th {\n",
       "        vertical-align: top;\n",
       "    }\n",
       "\n",
       "    .dataframe thead th {\n",
       "        text-align: right;\n",
       "    }\n",
       "</style>\n",
       "<table border=\"1\" class=\"dataframe\">\n",
       "  <thead>\n",
       "    <tr style=\"text-align: right;\">\n",
       "      <th></th>\n",
       "      <th>zip_code</th>\n",
       "      <th>addr_state</th>\n",
       "    </tr>\n",
       "  </thead>\n",
       "  <tbody>\n",
       "    <tr>\n",
       "      <th>0</th>\n",
       "      <td>860xx</td>\n",
       "      <td>AZ</td>\n",
       "    </tr>\n",
       "    <tr>\n",
       "      <th>1</th>\n",
       "      <td>309xx</td>\n",
       "      <td>GA</td>\n",
       "    </tr>\n",
       "    <tr>\n",
       "      <th>2</th>\n",
       "      <td>606xx</td>\n",
       "      <td>IL</td>\n",
       "    </tr>\n",
       "    <tr>\n",
       "      <th>3</th>\n",
       "      <td>917xx</td>\n",
       "      <td>CA</td>\n",
       "    </tr>\n",
       "    <tr>\n",
       "      <th>4</th>\n",
       "      <td>972xx</td>\n",
       "      <td>OR</td>\n",
       "    </tr>\n",
       "    <tr>\n",
       "      <th>...</th>\n",
       "      <td>...</td>\n",
       "      <td>...</td>\n",
       "    </tr>\n",
       "    <tr>\n",
       "      <th>39712</th>\n",
       "      <td>802xx</td>\n",
       "      <td>CO</td>\n",
       "    </tr>\n",
       "    <tr>\n",
       "      <th>39713</th>\n",
       "      <td>274xx</td>\n",
       "      <td>NC</td>\n",
       "    </tr>\n",
       "    <tr>\n",
       "      <th>39714</th>\n",
       "      <td>017xx</td>\n",
       "      <td>MA</td>\n",
       "    </tr>\n",
       "    <tr>\n",
       "      <th>39715</th>\n",
       "      <td>208xx</td>\n",
       "      <td>MD</td>\n",
       "    </tr>\n",
       "    <tr>\n",
       "      <th>39716</th>\n",
       "      <td>027xx</td>\n",
       "      <td>MA</td>\n",
       "    </tr>\n",
       "  </tbody>\n",
       "</table>\n",
       "<p>39717 rows × 2 columns</p>\n",
       "</div>"
      ],
      "text/plain": [
       "      zip_code addr_state\n",
       "0        860xx         AZ\n",
       "1        309xx         GA\n",
       "2        606xx         IL\n",
       "3        917xx         CA\n",
       "4        972xx         OR\n",
       "...        ...        ...\n",
       "39712    802xx         CO\n",
       "39713    274xx         NC\n",
       "39714    017xx         MA\n",
       "39715    208xx         MD\n",
       "39716    027xx         MA\n",
       "\n",
       "[39717 rows x 2 columns]"
      ]
     },
     "execution_count": 136,
     "metadata": {},
     "output_type": "execute_result"
    }
   ],
   "source": [
    "loan_df2[['zip_code','addr_state']]"
   ]
  },
  {
   "cell_type": "markdown",
   "id": "2ac3d935",
   "metadata": {},
   "source": [
    "#### Observation\n",
    "* Column 'zip_code' seems like being kept as confidential\n",
    "* column 'addr_state' is more of categorical in nature\n",
    "\n",
    "#### Decision \n",
    "* Let's drop 'zip_code'\n",
    "* convert column 'addr_state' as categorical"
   ]
  },
  {
   "cell_type": "code",
   "execution_count": 137,
   "id": "f96578b8",
   "metadata": {},
   "outputs": [
    {
     "name": "stdout",
     "output_type": "stream",
     "text": [
      "<class 'pandas.core.frame.DataFrame'>\n",
      "RangeIndex: 39717 entries, 0 to 39716\n",
      "Data columns (total 31 columns):\n",
      " #   Column                    Non-Null Count  Dtype   \n",
      "---  ------                    --------------  -----   \n",
      " 0   loan_amnt                 39717 non-null  int64   \n",
      " 1   term                      39717 non-null  category\n",
      " 2   int_rate                  39717 non-null  float64 \n",
      " 3   installment               39717 non-null  float64 \n",
      " 4   grade                     39717 non-null  category\n",
      " 5   sub_grade                 39717 non-null  category\n",
      " 6   emp_title                 37258 non-null  category\n",
      " 7   emp_length                38642 non-null  category\n",
      " 8   home_ownership            39717 non-null  category\n",
      " 9   annual_inc                39717 non-null  float64 \n",
      " 10  verification_status       39717 non-null  category\n",
      " 11  issue_d                   39717 non-null  object  \n",
      " 12  loan_status               39717 non-null  category\n",
      " 13  purpose                   39717 non-null  category\n",
      " 14  addr_state                39717 non-null  category\n",
      " 15  dti                       39717 non-null  float64 \n",
      " 16  earliest_cr_line          39717 non-null  object  \n",
      " 17  inq_last_6mths            39717 non-null  int64   \n",
      " 18  open_acc                  39717 non-null  int64   \n",
      " 19  pub_rec                   39717 non-null  int64   \n",
      " 20  revol_bal                 39717 non-null  int64   \n",
      " 21  revol_util                39667 non-null  object  \n",
      " 22  total_acc                 39717 non-null  int64   \n",
      " 23  initial_list_status       39717 non-null  object  \n",
      " 24  policy_code               39717 non-null  int64   \n",
      " 25  application_type          39717 non-null  object  \n",
      " 26  acc_now_delinq            39717 non-null  int64   \n",
      " 27  chargeoff_within_12_mths  39661 non-null  float64 \n",
      " 28  delinq_amnt               39717 non-null  int64   \n",
      " 29  pub_rec_bankruptcies      39020 non-null  float64 \n",
      " 30  tax_liens                 39678 non-null  float64 \n",
      "dtypes: category(10), float64(7), int64(9), object(5)\n",
      "memory usage: 8.0+ MB\n"
     ]
    }
   ],
   "source": [
    "loan_df2 = loan_df2.drop(columns=['zip_code'])\n",
    "loan_df2['addr_state'] = loan_df2['addr_state'].astype('category')\n",
    "loan_df2.info()"
   ]
  },
  {
   "cell_type": "code",
   "execution_count": 138,
   "id": "81df9305",
   "metadata": {},
   "outputs": [
    {
     "data": {
      "text/plain": [
       "Nov-98    370\n",
       "Oct-99    366\n",
       "Dec-98    348\n",
       "Oct-00    346\n",
       "Dec-97    329\n",
       "         ... \n",
       "Dec-61      1\n",
       "Feb-67      1\n",
       "Oct-64      1\n",
       "Apr-66      1\n",
       "Nov-61      1\n",
       "Name: earliest_cr_line, Length: 526, dtype: int64"
      ]
     },
     "execution_count": 138,
     "metadata": {},
     "output_type": "execute_result"
    }
   ],
   "source": [
    "loan_df2['earliest_cr_line'].value_counts()"
   ]
  },
  {
   "cell_type": "markdown",
   "id": "0136864f",
   "metadata": {},
   "source": [
    "#### Observation/Assumption\n",
    "* Significance of this column need to be explored further\n",
    "\n",
    "#### Decision\n",
    "* let's skip for now"
   ]
  },
  {
   "cell_type": "code",
   "execution_count": 139,
   "id": "50cc2db7",
   "metadata": {},
   "outputs": [
    {
     "name": "stdout",
     "output_type": "stream",
     "text": [
      "<class 'pandas.core.frame.DataFrame'>\n",
      "RangeIndex: 39717 entries, 0 to 39716\n",
      "Data columns (total 31 columns):\n",
      " #   Column                    Non-Null Count  Dtype   \n",
      "---  ------                    --------------  -----   \n",
      " 0   loan_amnt                 39717 non-null  int64   \n",
      " 1   term                      39717 non-null  category\n",
      " 2   int_rate                  39717 non-null  float64 \n",
      " 3   installment               39717 non-null  float64 \n",
      " 4   grade                     39717 non-null  category\n",
      " 5   sub_grade                 39717 non-null  category\n",
      " 6   emp_title                 37258 non-null  category\n",
      " 7   emp_length                38642 non-null  category\n",
      " 8   home_ownership            39717 non-null  category\n",
      " 9   annual_inc                39717 non-null  float64 \n",
      " 10  verification_status       39717 non-null  category\n",
      " 11  issue_d                   39717 non-null  object  \n",
      " 12  loan_status               39717 non-null  category\n",
      " 13  purpose                   39717 non-null  category\n",
      " 14  addr_state                39717 non-null  category\n",
      " 15  dti                       39717 non-null  float64 \n",
      " 16  earliest_cr_line          39717 non-null  object  \n",
      " 17  inq_last_6mths            39717 non-null  int64   \n",
      " 18  open_acc                  39717 non-null  int64   \n",
      " 19  pub_rec                   39717 non-null  int64   \n",
      " 20  revol_bal                 39717 non-null  int64   \n",
      " 21  revol_util                39667 non-null  object  \n",
      " 22  total_acc                 39717 non-null  int64   \n",
      " 23  initial_list_status       39717 non-null  object  \n",
      " 24  policy_code               39717 non-null  int64   \n",
      " 25  application_type          39717 non-null  object  \n",
      " 26  acc_now_delinq            39717 non-null  int64   \n",
      " 27  chargeoff_within_12_mths  39661 non-null  float64 \n",
      " 28  delinq_amnt               39717 non-null  int64   \n",
      " 29  pub_rec_bankruptcies      39020 non-null  float64 \n",
      " 30  tax_liens                 39678 non-null  float64 \n",
      "dtypes: category(10), float64(7), int64(9), object(5)\n",
      "memory usage: 8.0+ MB\n"
     ]
    }
   ],
   "source": [
    "loan_df2['inq_last_6mths'].value_counts()\n",
    "loan_df2.info()"
   ]
  },
  {
   "cell_type": "markdown",
   "id": "c5bdb9f1",
   "metadata": {},
   "source": [
    "#### Observation\n",
    "* columns 'revol_bal' and 'revol_util' seems like opposite of each other based on Data_Dictionary.xls\n",
    "\n",
    "#### Assumption\n",
    "* dropping of one of these may not have an impact\n",
    "\n",
    "#### Decision\n",
    "* let's drop 'revol_util' column"
   ]
  },
  {
   "cell_type": "code",
   "execution_count": 140,
   "id": "cb4c0d80",
   "metadata": {},
   "outputs": [
    {
     "name": "stdout",
     "output_type": "stream",
     "text": [
      "<class 'pandas.core.frame.DataFrame'>\n",
      "RangeIndex: 39717 entries, 0 to 39716\n",
      "Data columns (total 30 columns):\n",
      " #   Column                    Non-Null Count  Dtype   \n",
      "---  ------                    --------------  -----   \n",
      " 0   loan_amnt                 39717 non-null  int64   \n",
      " 1   term                      39717 non-null  category\n",
      " 2   int_rate                  39717 non-null  float64 \n",
      " 3   installment               39717 non-null  float64 \n",
      " 4   grade                     39717 non-null  category\n",
      " 5   sub_grade                 39717 non-null  category\n",
      " 6   emp_title                 37258 non-null  category\n",
      " 7   emp_length                38642 non-null  category\n",
      " 8   home_ownership            39717 non-null  category\n",
      " 9   annual_inc                39717 non-null  float64 \n",
      " 10  verification_status       39717 non-null  category\n",
      " 11  issue_d                   39717 non-null  object  \n",
      " 12  loan_status               39717 non-null  category\n",
      " 13  purpose                   39717 non-null  category\n",
      " 14  addr_state                39717 non-null  category\n",
      " 15  dti                       39717 non-null  float64 \n",
      " 16  earliest_cr_line          39717 non-null  object  \n",
      " 17  inq_last_6mths            39717 non-null  int64   \n",
      " 18  open_acc                  39717 non-null  int64   \n",
      " 19  pub_rec                   39717 non-null  int64   \n",
      " 20  revol_bal                 39717 non-null  int64   \n",
      " 21  total_acc                 39717 non-null  int64   \n",
      " 22  initial_list_status       39717 non-null  object  \n",
      " 23  policy_code               39717 non-null  int64   \n",
      " 24  application_type          39717 non-null  object  \n",
      " 25  acc_now_delinq            39717 non-null  int64   \n",
      " 26  chargeoff_within_12_mths  39661 non-null  float64 \n",
      " 27  delinq_amnt               39717 non-null  int64   \n",
      " 28  pub_rec_bankruptcies      39020 non-null  float64 \n",
      " 29  tax_liens                 39678 non-null  float64 \n",
      "dtypes: category(10), float64(7), int64(9), object(4)\n",
      "memory usage: 7.7+ MB\n"
     ]
    }
   ],
   "source": [
    "loan_df2 = loan_df2.drop(columns=['revol_util'])\n",
    "loan_df2.info()"
   ]
  },
  {
   "cell_type": "code",
   "execution_count": 142,
   "id": "e7a1adb3",
   "metadata": {},
   "outputs": [
    {
     "data": {
      "text/plain": [
       "f    39717\n",
       "Name: initial_list_status, dtype: int64"
      ]
     },
     "execution_count": 142,
     "metadata": {},
     "output_type": "execute_result"
    }
   ],
   "source": [
    "loan_df2['initial_list_status'].value_counts()"
   ]
  },
  {
   "cell_type": "markdown",
   "id": "eeca19f3",
   "metadata": {},
   "source": [
    "#### Observation\n",
    "* same value for all rows; it may not be useful\n",
    "\n",
    "#### Decision\n",
    "* let's drop this column"
   ]
  },
  {
   "cell_type": "code",
   "execution_count": 143,
   "id": "42e13436",
   "metadata": {},
   "outputs": [
    {
     "name": "stdout",
     "output_type": "stream",
     "text": [
      "<class 'pandas.core.frame.DataFrame'>\n",
      "RangeIndex: 39717 entries, 0 to 39716\n",
      "Data columns (total 29 columns):\n",
      " #   Column                    Non-Null Count  Dtype   \n",
      "---  ------                    --------------  -----   \n",
      " 0   loan_amnt                 39717 non-null  int64   \n",
      " 1   term                      39717 non-null  category\n",
      " 2   int_rate                  39717 non-null  float64 \n",
      " 3   installment               39717 non-null  float64 \n",
      " 4   grade                     39717 non-null  category\n",
      " 5   sub_grade                 39717 non-null  category\n",
      " 6   emp_title                 37258 non-null  category\n",
      " 7   emp_length                38642 non-null  category\n",
      " 8   home_ownership            39717 non-null  category\n",
      " 9   annual_inc                39717 non-null  float64 \n",
      " 10  verification_status       39717 non-null  category\n",
      " 11  issue_d                   39717 non-null  object  \n",
      " 12  loan_status               39717 non-null  category\n",
      " 13  purpose                   39717 non-null  category\n",
      " 14  addr_state                39717 non-null  category\n",
      " 15  dti                       39717 non-null  float64 \n",
      " 16  earliest_cr_line          39717 non-null  object  \n",
      " 17  inq_last_6mths            39717 non-null  int64   \n",
      " 18  open_acc                  39717 non-null  int64   \n",
      " 19  pub_rec                   39717 non-null  int64   \n",
      " 20  revol_bal                 39717 non-null  int64   \n",
      " 21  total_acc                 39717 non-null  int64   \n",
      " 22  policy_code               39717 non-null  int64   \n",
      " 23  application_type          39717 non-null  object  \n",
      " 24  acc_now_delinq            39717 non-null  int64   \n",
      " 25  chargeoff_within_12_mths  39661 non-null  float64 \n",
      " 26  delinq_amnt               39717 non-null  int64   \n",
      " 27  pub_rec_bankruptcies      39020 non-null  float64 \n",
      " 28  tax_liens                 39678 non-null  float64 \n",
      "dtypes: category(10), float64(7), int64(9), object(3)\n",
      "memory usage: 7.4+ MB\n"
     ]
    }
   ],
   "source": [
    "loan_df2 = loan_df2.drop(columns='initial_list_status')\n",
    "loan_df2.info()"
   ]
  },
  {
   "cell_type": "code",
   "execution_count": 145,
   "id": "b883fa3d",
   "metadata": {},
   "outputs": [
    {
     "data": {
      "text/plain": [
       "1    39717\n",
       "Name: policy_code, dtype: int64"
      ]
     },
     "execution_count": 145,
     "metadata": {},
     "output_type": "execute_result"
    }
   ],
   "source": [
    "loan_df2['policy_code'].value_counts()"
   ]
  },
  {
   "cell_type": "markdown",
   "id": "4575bd1d",
   "metadata": {},
   "source": [
    "#### Observation\n",
    "* all rows has same value viz. 1\n",
    "\n",
    "#### Decision\n",
    "* Let's drop this column"
   ]
  },
  {
   "cell_type": "code",
   "execution_count": 146,
   "id": "0a74cead",
   "metadata": {},
   "outputs": [
    {
     "name": "stdout",
     "output_type": "stream",
     "text": [
      "<class 'pandas.core.frame.DataFrame'>\n",
      "RangeIndex: 39717 entries, 0 to 39716\n",
      "Data columns (total 28 columns):\n",
      " #   Column                    Non-Null Count  Dtype   \n",
      "---  ------                    --------------  -----   \n",
      " 0   loan_amnt                 39717 non-null  int64   \n",
      " 1   term                      39717 non-null  category\n",
      " 2   int_rate                  39717 non-null  float64 \n",
      " 3   installment               39717 non-null  float64 \n",
      " 4   grade                     39717 non-null  category\n",
      " 5   sub_grade                 39717 non-null  category\n",
      " 6   emp_title                 37258 non-null  category\n",
      " 7   emp_length                38642 non-null  category\n",
      " 8   home_ownership            39717 non-null  category\n",
      " 9   annual_inc                39717 non-null  float64 \n",
      " 10  verification_status       39717 non-null  category\n",
      " 11  issue_d                   39717 non-null  object  \n",
      " 12  loan_status               39717 non-null  category\n",
      " 13  purpose                   39717 non-null  category\n",
      " 14  addr_state                39717 non-null  category\n",
      " 15  dti                       39717 non-null  float64 \n",
      " 16  earliest_cr_line          39717 non-null  object  \n",
      " 17  inq_last_6mths            39717 non-null  int64   \n",
      " 18  open_acc                  39717 non-null  int64   \n",
      " 19  pub_rec                   39717 non-null  int64   \n",
      " 20  revol_bal                 39717 non-null  int64   \n",
      " 21  total_acc                 39717 non-null  int64   \n",
      " 22  application_type          39717 non-null  object  \n",
      " 23  acc_now_delinq            39717 non-null  int64   \n",
      " 24  chargeoff_within_12_mths  39661 non-null  float64 \n",
      " 25  delinq_amnt               39717 non-null  int64   \n",
      " 26  pub_rec_bankruptcies      39020 non-null  float64 \n",
      " 27  tax_liens                 39678 non-null  float64 \n",
      "dtypes: category(10), float64(7), int64(8), object(3)\n",
      "memory usage: 7.1+ MB\n"
     ]
    }
   ],
   "source": [
    "loan_df2 = loan_df2.drop(columns='policy_code')\n",
    "loan_df2.info()"
   ]
  },
  {
   "cell_type": "code",
   "execution_count": 148,
   "id": "f654b7be",
   "metadata": {},
   "outputs": [
    {
     "data": {
      "text/plain": [
       "INDIVIDUAL    39717\n",
       "Name: application_type, dtype: int64"
      ]
     },
     "execution_count": 148,
     "metadata": {},
     "output_type": "execute_result"
    }
   ],
   "source": [
    "loan_df2['application_type'].value_counts()"
   ]
  },
  {
   "cell_type": "markdown",
   "id": "8063e9e9",
   "metadata": {},
   "source": [
    "#### Observation\n",
    "* All values are same viz. INDIVIDUAL\n",
    "\n",
    "#### Decision\n",
    "* let's drop this column"
   ]
  },
  {
   "cell_type": "code",
   "execution_count": 149,
   "id": "e46b2609",
   "metadata": {},
   "outputs": [
    {
     "name": "stdout",
     "output_type": "stream",
     "text": [
      "<class 'pandas.core.frame.DataFrame'>\n",
      "RangeIndex: 39717 entries, 0 to 39716\n",
      "Data columns (total 27 columns):\n",
      " #   Column                    Non-Null Count  Dtype   \n",
      "---  ------                    --------------  -----   \n",
      " 0   loan_amnt                 39717 non-null  int64   \n",
      " 1   term                      39717 non-null  category\n",
      " 2   int_rate                  39717 non-null  float64 \n",
      " 3   installment               39717 non-null  float64 \n",
      " 4   grade                     39717 non-null  category\n",
      " 5   sub_grade                 39717 non-null  category\n",
      " 6   emp_title                 37258 non-null  category\n",
      " 7   emp_length                38642 non-null  category\n",
      " 8   home_ownership            39717 non-null  category\n",
      " 9   annual_inc                39717 non-null  float64 \n",
      " 10  verification_status       39717 non-null  category\n",
      " 11  issue_d                   39717 non-null  object  \n",
      " 12  loan_status               39717 non-null  category\n",
      " 13  purpose                   39717 non-null  category\n",
      " 14  addr_state                39717 non-null  category\n",
      " 15  dti                       39717 non-null  float64 \n",
      " 16  earliest_cr_line          39717 non-null  object  \n",
      " 17  inq_last_6mths            39717 non-null  int64   \n",
      " 18  open_acc                  39717 non-null  int64   \n",
      " 19  pub_rec                   39717 non-null  int64   \n",
      " 20  revol_bal                 39717 non-null  int64   \n",
      " 21  total_acc                 39717 non-null  int64   \n",
      " 22  acc_now_delinq            39717 non-null  int64   \n",
      " 23  chargeoff_within_12_mths  39661 non-null  float64 \n",
      " 24  delinq_amnt               39717 non-null  int64   \n",
      " 25  pub_rec_bankruptcies      39020 non-null  float64 \n",
      " 26  tax_liens                 39678 non-null  float64 \n",
      "dtypes: category(10), float64(7), int64(8), object(2)\n",
      "memory usage: 6.8+ MB\n"
     ]
    }
   ],
   "source": [
    "loan_df2 = loan_df2.drop(columns='application_type')\n",
    "loan_df2.info()"
   ]
  },
  {
   "cell_type": "code",
   "execution_count": 151,
   "id": "d25d67a4",
   "metadata": {},
   "outputs": [
    {
     "data": {
      "text/plain": [
       "0    39717\n",
       "Name: acc_now_delinq, dtype: int64"
      ]
     },
     "execution_count": 151,
     "metadata": {},
     "output_type": "execute_result"
    }
   ],
   "source": [
    "loan_df2['acc_now_delinq'].value_counts()"
   ]
  },
  {
   "cell_type": "markdown",
   "id": "1ffce629",
   "metadata": {},
   "source": [
    "#### Observation\n",
    "* All rows has same value viz. 0\n",
    "\n",
    "#### Decision\n",
    "* Let's drop this column"
   ]
  },
  {
   "cell_type": "code",
   "execution_count": 152,
   "id": "f313242a",
   "metadata": {},
   "outputs": [
    {
     "name": "stdout",
     "output_type": "stream",
     "text": [
      "<class 'pandas.core.frame.DataFrame'>\n",
      "RangeIndex: 39717 entries, 0 to 39716\n",
      "Data columns (total 26 columns):\n",
      " #   Column                    Non-Null Count  Dtype   \n",
      "---  ------                    --------------  -----   \n",
      " 0   loan_amnt                 39717 non-null  int64   \n",
      " 1   term                      39717 non-null  category\n",
      " 2   int_rate                  39717 non-null  float64 \n",
      " 3   installment               39717 non-null  float64 \n",
      " 4   grade                     39717 non-null  category\n",
      " 5   sub_grade                 39717 non-null  category\n",
      " 6   emp_title                 37258 non-null  category\n",
      " 7   emp_length                38642 non-null  category\n",
      " 8   home_ownership            39717 non-null  category\n",
      " 9   annual_inc                39717 non-null  float64 \n",
      " 10  verification_status       39717 non-null  category\n",
      " 11  issue_d                   39717 non-null  object  \n",
      " 12  loan_status               39717 non-null  category\n",
      " 13  purpose                   39717 non-null  category\n",
      " 14  addr_state                39717 non-null  category\n",
      " 15  dti                       39717 non-null  float64 \n",
      " 16  earliest_cr_line          39717 non-null  object  \n",
      " 17  inq_last_6mths            39717 non-null  int64   \n",
      " 18  open_acc                  39717 non-null  int64   \n",
      " 19  pub_rec                   39717 non-null  int64   \n",
      " 20  revol_bal                 39717 non-null  int64   \n",
      " 21  total_acc                 39717 non-null  int64   \n",
      " 22  chargeoff_within_12_mths  39661 non-null  float64 \n",
      " 23  delinq_amnt               39717 non-null  int64   \n",
      " 24  pub_rec_bankruptcies      39020 non-null  float64 \n",
      " 25  tax_liens                 39678 non-null  float64 \n",
      "dtypes: category(10), float64(7), int64(7), object(2)\n",
      "memory usage: 6.5+ MB\n"
     ]
    }
   ],
   "source": [
    "loan_df2 = loan_df2.drop(columns='acc_now_delinq')\n",
    "loan_df2.info()"
   ]
  },
  {
   "cell_type": "markdown",
   "id": "b446f413",
   "metadata": {},
   "source": [
    "#### Observation\n",
    "* Based on Data Dictions, column 'chargeoff_within_12_mths' may be relevant for post loan gran\n",
    "\n",
    "#### Decision\n",
    "* let's drop this column"
   ]
  },
  {
   "cell_type": "code",
   "execution_count": 153,
   "id": "ca7a98ab",
   "metadata": {},
   "outputs": [
    {
     "name": "stdout",
     "output_type": "stream",
     "text": [
      "<class 'pandas.core.frame.DataFrame'>\n",
      "RangeIndex: 39717 entries, 0 to 39716\n",
      "Data columns (total 25 columns):\n",
      " #   Column                Non-Null Count  Dtype   \n",
      "---  ------                --------------  -----   \n",
      " 0   loan_amnt             39717 non-null  int64   \n",
      " 1   term                  39717 non-null  category\n",
      " 2   int_rate              39717 non-null  float64 \n",
      " 3   installment           39717 non-null  float64 \n",
      " 4   grade                 39717 non-null  category\n",
      " 5   sub_grade             39717 non-null  category\n",
      " 6   emp_title             37258 non-null  category\n",
      " 7   emp_length            38642 non-null  category\n",
      " 8   home_ownership        39717 non-null  category\n",
      " 9   annual_inc            39717 non-null  float64 \n",
      " 10  verification_status   39717 non-null  category\n",
      " 11  issue_d               39717 non-null  object  \n",
      " 12  loan_status           39717 non-null  category\n",
      " 13  purpose               39717 non-null  category\n",
      " 14  addr_state            39717 non-null  category\n",
      " 15  dti                   39717 non-null  float64 \n",
      " 16  earliest_cr_line      39717 non-null  object  \n",
      " 17  inq_last_6mths        39717 non-null  int64   \n",
      " 18  open_acc              39717 non-null  int64   \n",
      " 19  pub_rec               39717 non-null  int64   \n",
      " 20  revol_bal             39717 non-null  int64   \n",
      " 21  total_acc             39717 non-null  int64   \n",
      " 22  delinq_amnt           39717 non-null  int64   \n",
      " 23  pub_rec_bankruptcies  39020 non-null  float64 \n",
      " 24  tax_liens             39678 non-null  float64 \n",
      "dtypes: category(10), float64(6), int64(7), object(2)\n",
      "memory usage: 6.2+ MB\n"
     ]
    }
   ],
   "source": [
    "loan_df2 = loan_df2.drop(columns='chargeoff_within_12_mths')\n",
    "loan_df2.info()"
   ]
  },
  {
   "cell_type": "code",
   "execution_count": 154,
   "id": "e60ccf3d",
   "metadata": {},
   "outputs": [
    {
     "data": {
      "text/plain": [
       "0    39717\n",
       "Name: delinq_amnt, dtype: int64"
      ]
     },
     "execution_count": 154,
     "metadata": {},
     "output_type": "execute_result"
    }
   ],
   "source": [
    "loan_df2['delinq_amnt'].value_counts()"
   ]
  },
  {
   "cell_type": "markdown",
   "id": "da54b804",
   "metadata": {},
   "source": [
    "#### Observation\n",
    "* All rows has value of 0; it may not be useful for analysis\n",
    "\n",
    "#### Decision\n",
    "* Let's drop this column"
   ]
  },
  {
   "cell_type": "code",
   "execution_count": 155,
   "id": "99fb4b33",
   "metadata": {},
   "outputs": [
    {
     "name": "stdout",
     "output_type": "stream",
     "text": [
      "<class 'pandas.core.frame.DataFrame'>\n",
      "RangeIndex: 39717 entries, 0 to 39716\n",
      "Data columns (total 24 columns):\n",
      " #   Column                Non-Null Count  Dtype   \n",
      "---  ------                --------------  -----   \n",
      " 0   loan_amnt             39717 non-null  int64   \n",
      " 1   term                  39717 non-null  category\n",
      " 2   int_rate              39717 non-null  float64 \n",
      " 3   installment           39717 non-null  float64 \n",
      " 4   grade                 39717 non-null  category\n",
      " 5   sub_grade             39717 non-null  category\n",
      " 6   emp_title             37258 non-null  category\n",
      " 7   emp_length            38642 non-null  category\n",
      " 8   home_ownership        39717 non-null  category\n",
      " 9   annual_inc            39717 non-null  float64 \n",
      " 10  verification_status   39717 non-null  category\n",
      " 11  issue_d               39717 non-null  object  \n",
      " 12  loan_status           39717 non-null  category\n",
      " 13  purpose               39717 non-null  category\n",
      " 14  addr_state            39717 non-null  category\n",
      " 15  dti                   39717 non-null  float64 \n",
      " 16  earliest_cr_line      39717 non-null  object  \n",
      " 17  inq_last_6mths        39717 non-null  int64   \n",
      " 18  open_acc              39717 non-null  int64   \n",
      " 19  pub_rec               39717 non-null  int64   \n",
      " 20  revol_bal             39717 non-null  int64   \n",
      " 21  total_acc             39717 non-null  int64   \n",
      " 22  pub_rec_bankruptcies  39020 non-null  float64 \n",
      " 23  tax_liens             39678 non-null  float64 \n",
      "dtypes: category(10), float64(6), int64(6), object(2)\n",
      "memory usage: 5.9+ MB\n"
     ]
    }
   ],
   "source": [
    "loan_df2 = loan_df2.drop(columns='delinq_amnt')\n",
    "loan_df2.info()"
   ]
  },
  {
   "cell_type": "code",
   "execution_count": 157,
   "id": "f1b0a2c9",
   "metadata": {},
   "outputs": [
    {
     "data": {
      "text/plain": [
       "0.0    37339\n",
       "1.0     1674\n",
       "2.0        7\n",
       "Name: pub_rec_bankruptcies, dtype: int64"
      ]
     },
     "execution_count": 157,
     "metadata": {},
     "output_type": "execute_result"
    }
   ],
   "source": [
    "loan_df2['pub_rec_bankruptcies'].value_counts()"
   ]
  },
  {
   "cell_type": "code",
   "execution_count": 159,
   "id": "564d43c3",
   "metadata": {},
   "outputs": [
    {
     "data": {
      "text/plain": [
       "0.0    39678\n",
       "Name: tax_liens, dtype: int64"
      ]
     },
     "execution_count": 159,
     "metadata": {},
     "output_type": "execute_result"
    }
   ],
   "source": [
    "loan_df2['tax_liens'].value_counts()"
   ]
  },
  {
   "cell_type": "markdown",
   "id": "0a643002",
   "metadata": {},
   "source": [
    "#### Observation\n",
    "* All entries are zero or NAN\n",
    "\n",
    "#### Decision\n",
    "* Let's drop the column"
   ]
  },
  {
   "cell_type": "code",
   "execution_count": 160,
   "id": "532f2047",
   "metadata": {},
   "outputs": [
    {
     "name": "stdout",
     "output_type": "stream",
     "text": [
      "<class 'pandas.core.frame.DataFrame'>\n",
      "RangeIndex: 39717 entries, 0 to 39716\n",
      "Data columns (total 23 columns):\n",
      " #   Column                Non-Null Count  Dtype   \n",
      "---  ------                --------------  -----   \n",
      " 0   loan_amnt             39717 non-null  int64   \n",
      " 1   term                  39717 non-null  category\n",
      " 2   int_rate              39717 non-null  float64 \n",
      " 3   installment           39717 non-null  float64 \n",
      " 4   grade                 39717 non-null  category\n",
      " 5   sub_grade             39717 non-null  category\n",
      " 6   emp_title             37258 non-null  category\n",
      " 7   emp_length            38642 non-null  category\n",
      " 8   home_ownership        39717 non-null  category\n",
      " 9   annual_inc            39717 non-null  float64 \n",
      " 10  verification_status   39717 non-null  category\n",
      " 11  issue_d               39717 non-null  object  \n",
      " 12  loan_status           39717 non-null  category\n",
      " 13  purpose               39717 non-null  category\n",
      " 14  addr_state            39717 non-null  category\n",
      " 15  dti                   39717 non-null  float64 \n",
      " 16  earliest_cr_line      39717 non-null  object  \n",
      " 17  inq_last_6mths        39717 non-null  int64   \n",
      " 18  open_acc              39717 non-null  int64   \n",
      " 19  pub_rec               39717 non-null  int64   \n",
      " 20  revol_bal             39717 non-null  int64   \n",
      " 21  total_acc             39717 non-null  int64   \n",
      " 22  pub_rec_bankruptcies  39020 non-null  float64 \n",
      "dtypes: category(10), float64(5), int64(6), object(2)\n",
      "memory usage: 5.6+ MB\n"
     ]
    }
   ],
   "source": [
    "loan_df2 = loan_df2.drop(columns='tax_liens')\n",
    "loan_df2.info()"
   ]
  },
  {
   "cell_type": "code",
   "execution_count": 95,
   "id": "b4adc370",
   "metadata": {},
   "outputs": [
    {
     "data": {
      "text/plain": [
       "<AxesSubplot:>"
      ]
     },
     "execution_count": 95,
     "metadata": {},
     "output_type": "execute_result"
    },
    {
     "data": {
      "image/png": "[encoded data removed]",
      "text/plain": [
       "<Figure size 432x288 with 1 Axes>"
      ]
     },
     "metadata": {
      "needs_background": "light"
     },
     "output_type": "display_data"
    }
   ],
   "source": [
    "loan_df2['total_acc'].hist(bins=50)"
   ]
  },
  {
   "cell_type": "code",
   "execution_count": 84,
   "id": "45cec648",
   "metadata": {},
   "outputs": [
    {
     "data": {
      "text/plain": [
       "0    37601\n",
       "1     2056\n",
       "2       51\n",
       "3        7\n",
       "4        2\n",
       "Name: pub_rec, dtype: int64"
      ]
     },
     "execution_count": 84,
     "metadata": {},
     "output_type": "execute_result"
    }
   ],
   "source": [
    "loan_df2['pub_rec'].value_counts()"
   ]
  },
  {
   "cell_type": "code",
   "execution_count": null,
   "id": "77ba0f4e",
   "metadata": {},
   "outputs": [],
   "source": [
    "\n"
   ]
  },
  {
   "cell_type": "code",
   "execution_count": 85,
   "id": "3c16db60",
   "metadata": {},
   "outputs": [
    {
     "data": {
      "text/plain": [
       "f    39717\n",
       "Name: initial_list_status, dtype: int64"
      ]
     },
     "execution_count": 85,
     "metadata": {},
     "output_type": "execute_result"
    }
   ],
   "source": [
    "loan_df2['initial_list_status'].value_counts()"
   ]
  },
  {
   "cell_type": "code",
   "execution_count": 86,
   "id": "bfc78a8b",
   "metadata": {},
   "outputs": [
    {
     "name": "stdout",
     "output_type": "stream",
     "text": [
      "<class 'pandas.core.frame.DataFrame'>\n",
      "RangeIndex: 39717 entries, 0 to 39716\n",
      "Data columns (total 29 columns):\n",
      " #   Column                    Non-Null Count  Dtype   \n",
      "---  ------                    --------------  -----   \n",
      " 0   loan_amnt                 39717 non-null  int64   \n",
      " 1   term                      39717 non-null  category\n",
      " 2   int_rate                  39717 non-null  float64 \n",
      " 3   installment               39717 non-null  float64 \n",
      " 4   grade                     39717 non-null  category\n",
      " 5   sub_grade                 39717 non-null  category\n",
      " 6   emp_title                 37258 non-null  category\n",
      " 7   emp_length                38642 non-null  category\n",
      " 8   home_ownership            39717 non-null  category\n",
      " 9   annual_inc                39717 non-null  float64 \n",
      " 10  verification_status       39717 non-null  category\n",
      " 11  issue_d                   39717 non-null  object  \n",
      " 12  loan_status               39717 non-null  category\n",
      " 13  purpose                   39717 non-null  category\n",
      " 14  addr_state                39717 non-null  category\n",
      " 15  dti                       39717 non-null  float64 \n",
      " 16  earliest_cr_line          39717 non-null  object  \n",
      " 17  inq_last_6mths            39717 non-null  int64   \n",
      " 18  open_acc                  39717 non-null  int64   \n",
      " 19  pub_rec                   39717 non-null  int64   \n",
      " 20  revol_bal                 39717 non-null  int64   \n",
      " 21  total_acc                 39717 non-null  int64   \n",
      " 22  policy_code               39717 non-null  int64   \n",
      " 23  application_type          39717 non-null  object  \n",
      " 24  acc_now_delinq            39717 non-null  int64   \n",
      " 25  chargeoff_within_12_mths  39661 non-null  float64 \n",
      " 26  delinq_amnt               39717 non-null  int64   \n",
      " 27  pub_rec_bankruptcies      39020 non-null  float64 \n",
      " 28  tax_liens                 39678 non-null  float64 \n",
      "dtypes: category(10), float64(7), int64(9), object(3)\n",
      "memory usage: 7.4+ MB\n"
     ]
    }
   ],
   "source": [
    "#since all entries has same value; we can drop column 'initial_list_status'\n",
    "loan_df2 = loan_df2.drop(columns=['initial_list_status'])\n",
    "loan_df2.info()"
   ]
  },
  {
   "cell_type": "code",
   "execution_count": 87,
   "id": "5092701d",
   "metadata": {},
   "outputs": [
    {
     "ename": "KeyError",
     "evalue": "\"['out_prncp' 'out_prncp_inv'] not found in axis\"",
     "output_type": "error",
     "traceback": [
      "\u001b[1;31m---------------------------------------------------------------------------\u001b[0m",
      "\u001b[1;31mKeyError\u001b[0m                                  Traceback (most recent call last)",
      "\u001b[1;32m<ipython-input-87-c27469fc7621>\u001b[0m in \u001b[0;36m<module>\u001b[1;34m\u001b[0m\n\u001b[0;32m      1\u001b[0m \u001b[1;31m# Following columns 'out_prncp' and 'out_prncp_inv' seem related to curren in-progress loan based on Data-Dictionory.xls\u001b[0m\u001b[1;33m\u001b[0m\u001b[1;33m\u001b[0m\u001b[1;33m\u001b[0m\u001b[0m\n\u001b[0;32m      2\u001b[0m \u001b[1;31m# let's drop them since these params may not be available at time of application\u001b[0m\u001b[1;33m\u001b[0m\u001b[1;33m\u001b[0m\u001b[1;33m\u001b[0m\u001b[0m\n\u001b[1;32m----> 3\u001b[1;33m \u001b[0mloan_df2\u001b[0m \u001b[1;33m=\u001b[0m \u001b[0mloan_df2\u001b[0m\u001b[1;33m.\u001b[0m\u001b[0mdrop\u001b[0m\u001b[1;33m(\u001b[0m\u001b[0mcolumns\u001b[0m\u001b[1;33m=\u001b[0m\u001b[1;33m[\u001b[0m\u001b[1;34m'out_prncp'\u001b[0m\u001b[1;33m,\u001b[0m\u001b[1;34m'out_prncp_inv'\u001b[0m\u001b[1;33m]\u001b[0m\u001b[1;33m)\u001b[0m\u001b[1;33m\u001b[0m\u001b[1;33m\u001b[0m\u001b[0m\n\u001b[0m\u001b[0;32m      4\u001b[0m \u001b[0mloan_df2\u001b[0m\u001b[1;33m.\u001b[0m\u001b[0minfo\u001b[0m\u001b[1;33m(\u001b[0m\u001b[1;33m)\u001b[0m\u001b[1;33m\u001b[0m\u001b[1;33m\u001b[0m\u001b[0m\n",
      "\u001b[1;32mC:\\ProgramData\\Anaconda3\\lib\\site-packages\\pandas\\core\\frame.py\u001b[0m in \u001b[0;36mdrop\u001b[1;34m(self, labels, axis, index, columns, level, inplace, errors)\u001b[0m\n\u001b[0;32m   4306\u001b[0m                 \u001b[0mweight\u001b[0m  \u001b[1;36m1.0\u001b[0m     \u001b[1;36m0.8\u001b[0m\u001b[1;33m\u001b[0m\u001b[1;33m\u001b[0m\u001b[0m\n\u001b[0;32m   4307\u001b[0m         \"\"\"\n\u001b[1;32m-> 4308\u001b[1;33m         return super().drop(\n\u001b[0m\u001b[0;32m   4309\u001b[0m             \u001b[0mlabels\u001b[0m\u001b[1;33m=\u001b[0m\u001b[0mlabels\u001b[0m\u001b[1;33m,\u001b[0m\u001b[1;33m\u001b[0m\u001b[1;33m\u001b[0m\u001b[0m\n\u001b[0;32m   4310\u001b[0m             \u001b[0maxis\u001b[0m\u001b[1;33m=\u001b[0m\u001b[0maxis\u001b[0m\u001b[1;33m,\u001b[0m\u001b[1;33m\u001b[0m\u001b[1;33m\u001b[0m\u001b[0m\n",
      "\u001b[1;32mC:\\ProgramData\\Anaconda3\\lib\\site-packages\\pandas\\core\\generic.py\u001b[0m in \u001b[0;36mdrop\u001b[1;34m(self, labels, axis, index, columns, level, inplace, errors)\u001b[0m\n\u001b[0;32m   4151\u001b[0m         \u001b[1;32mfor\u001b[0m \u001b[0maxis\u001b[0m\u001b[1;33m,\u001b[0m \u001b[0mlabels\u001b[0m \u001b[1;32min\u001b[0m \u001b[0maxes\u001b[0m\u001b[1;33m.\u001b[0m\u001b[0mitems\u001b[0m\u001b[1;33m(\u001b[0m\u001b[1;33m)\u001b[0m\u001b[1;33m:\u001b[0m\u001b[1;33m\u001b[0m\u001b[1;33m\u001b[0m\u001b[0m\n\u001b[0;32m   4152\u001b[0m             \u001b[1;32mif\u001b[0m \u001b[0mlabels\u001b[0m \u001b[1;32mis\u001b[0m \u001b[1;32mnot\u001b[0m \u001b[1;32mNone\u001b[0m\u001b[1;33m:\u001b[0m\u001b[1;33m\u001b[0m\u001b[1;33m\u001b[0m\u001b[0m\n\u001b[1;32m-> 4153\u001b[1;33m                 \u001b[0mobj\u001b[0m \u001b[1;33m=\u001b[0m \u001b[0mobj\u001b[0m\u001b[1;33m.\u001b[0m\u001b[0m_drop_axis\u001b[0m\u001b[1;33m(\u001b[0m\u001b[0mlabels\u001b[0m\u001b[1;33m,\u001b[0m \u001b[0maxis\u001b[0m\u001b[1;33m,\u001b[0m \u001b[0mlevel\u001b[0m\u001b[1;33m=\u001b[0m\u001b[0mlevel\u001b[0m\u001b[1;33m,\u001b[0m \u001b[0merrors\u001b[0m\u001b[1;33m=\u001b[0m\u001b[0merrors\u001b[0m\u001b[1;33m)\u001b[0m\u001b[1;33m\u001b[0m\u001b[1;33m\u001b[0m\u001b[0m\n\u001b[0m\u001b[0;32m   4154\u001b[0m \u001b[1;33m\u001b[0m\u001b[0m\n\u001b[0;32m   4155\u001b[0m         \u001b[1;32mif\u001b[0m \u001b[0minplace\u001b[0m\u001b[1;33m:\u001b[0m\u001b[1;33m\u001b[0m\u001b[1;33m\u001b[0m\u001b[0m\n",
      "\u001b[1;32mC:\\ProgramData\\Anaconda3\\lib\\site-packages\\pandas\\core\\generic.py\u001b[0m in \u001b[0;36m_drop_axis\u001b[1;34m(self, labels, axis, level, errors)\u001b[0m\n\u001b[0;32m   4186\u001b[0m                 \u001b[0mnew_axis\u001b[0m \u001b[1;33m=\u001b[0m \u001b[0maxis\u001b[0m\u001b[1;33m.\u001b[0m\u001b[0mdrop\u001b[0m\u001b[1;33m(\u001b[0m\u001b[0mlabels\u001b[0m\u001b[1;33m,\u001b[0m \u001b[0mlevel\u001b[0m\u001b[1;33m=\u001b[0m\u001b[0mlevel\u001b[0m\u001b[1;33m,\u001b[0m \u001b[0merrors\u001b[0m\u001b[1;33m=\u001b[0m\u001b[0merrors\u001b[0m\u001b[1;33m)\u001b[0m\u001b[1;33m\u001b[0m\u001b[1;33m\u001b[0m\u001b[0m\n\u001b[0;32m   4187\u001b[0m             \u001b[1;32melse\u001b[0m\u001b[1;33m:\u001b[0m\u001b[1;33m\u001b[0m\u001b[1;33m\u001b[0m\u001b[0m\n\u001b[1;32m-> 4188\u001b[1;33m                 \u001b[0mnew_axis\u001b[0m \u001b[1;33m=\u001b[0m \u001b[0maxis\u001b[0m\u001b[1;33m.\u001b[0m\u001b[0mdrop\u001b[0m\u001b[1;33m(\u001b[0m\u001b[0mlabels\u001b[0m\u001b[1;33m,\u001b[0m \u001b[0merrors\u001b[0m\u001b[1;33m=\u001b[0m\u001b[0merrors\u001b[0m\u001b[1;33m)\u001b[0m\u001b[1;33m\u001b[0m\u001b[1;33m\u001b[0m\u001b[0m\n\u001b[0m\u001b[0;32m   4189\u001b[0m             \u001b[0mresult\u001b[0m \u001b[1;33m=\u001b[0m \u001b[0mself\u001b[0m\u001b[1;33m.\u001b[0m\u001b[0mreindex\u001b[0m\u001b[1;33m(\u001b[0m\u001b[1;33m**\u001b[0m\u001b[1;33m{\u001b[0m\u001b[0maxis_name\u001b[0m\u001b[1;33m:\u001b[0m \u001b[0mnew_axis\u001b[0m\u001b[1;33m}\u001b[0m\u001b[1;33m)\u001b[0m\u001b[1;33m\u001b[0m\u001b[1;33m\u001b[0m\u001b[0m\n\u001b[0;32m   4190\u001b[0m \u001b[1;33m\u001b[0m\u001b[0m\n",
      "\u001b[1;32mC:\\ProgramData\\Anaconda3\\lib\\site-packages\\pandas\\core\\indexes\\base.py\u001b[0m in \u001b[0;36mdrop\u001b[1;34m(self, labels, errors)\u001b[0m\n\u001b[0;32m   5589\u001b[0m         \u001b[1;32mif\u001b[0m \u001b[0mmask\u001b[0m\u001b[1;33m.\u001b[0m\u001b[0many\u001b[0m\u001b[1;33m(\u001b[0m\u001b[1;33m)\u001b[0m\u001b[1;33m:\u001b[0m\u001b[1;33m\u001b[0m\u001b[1;33m\u001b[0m\u001b[0m\n\u001b[0;32m   5590\u001b[0m             \u001b[1;32mif\u001b[0m \u001b[0merrors\u001b[0m \u001b[1;33m!=\u001b[0m \u001b[1;34m\"ignore\"\u001b[0m\u001b[1;33m:\u001b[0m\u001b[1;33m\u001b[0m\u001b[1;33m\u001b[0m\u001b[0m\n\u001b[1;32m-> 5591\u001b[1;33m                 \u001b[1;32mraise\u001b[0m \u001b[0mKeyError\u001b[0m\u001b[1;33m(\u001b[0m\u001b[1;34mf\"{labels[mask]} not found in axis\"\u001b[0m\u001b[1;33m)\u001b[0m\u001b[1;33m\u001b[0m\u001b[1;33m\u001b[0m\u001b[0m\n\u001b[0m\u001b[0;32m   5592\u001b[0m             \u001b[0mindexer\u001b[0m \u001b[1;33m=\u001b[0m \u001b[0mindexer\u001b[0m\u001b[1;33m[\u001b[0m\u001b[1;33m~\u001b[0m\u001b[0mmask\u001b[0m\u001b[1;33m]\u001b[0m\u001b[1;33m\u001b[0m\u001b[1;33m\u001b[0m\u001b[0m\n\u001b[0;32m   5593\u001b[0m         \u001b[1;32mreturn\u001b[0m \u001b[0mself\u001b[0m\u001b[1;33m.\u001b[0m\u001b[0mdelete\u001b[0m\u001b[1;33m(\u001b[0m\u001b[0mindexer\u001b[0m\u001b[1;33m)\u001b[0m\u001b[1;33m\u001b[0m\u001b[1;33m\u001b[0m\u001b[0m\n",
      "\u001b[1;31mKeyError\u001b[0m: \"['out_prncp' 'out_prncp_inv'] not found in axis\""
     ]
    }
   ],
   "source": [
    "# Following columns 'out_prncp' and 'out_prncp_inv' seem related to curren in-progress loan based on Data-Dictionory.xls\n",
    "# let's drop them since these params may not be available at time of application\n",
    "loan_df2 = loan_df2.drop(columns=['out_prncp','out_prncp_inv'])\n",
    "loan_df2.info()"
   ]
  },
  {
   "cell_type": "code",
   "execution_count": null,
   "id": "a5f3cfb0",
   "metadata": {},
   "outputs": [],
   "source": [
    "# Following columns 'total_pymnt' and 'total_pymnt_inv' seem related to curren in-progress loan based on Data-Dictionory.xls\n",
    "# let's drop them since these params may not be available at time of application\n",
    "loan_df2 = loan_df2.drop(columns=['total_pymnt','total_pymnt_inv'])\n",
    "loan_df2.info()"
   ]
  },
  {
   "cell_type": "code",
   "execution_count": null,
   "id": "844a8885",
   "metadata": {},
   "outputs": [],
   "source": [
    "#column 'total_rec_prncp' is related to loan in progress as per Data-Dictionary.xls\n",
    "# let's drop it\n",
    "loan_df2 = loan_df2.drop(columns=['total_rec_prncp'])\n",
    "loan_df2.info()"
   ]
  },
  {
   "cell_type": "code",
   "execution_count": null,
   "id": "20daecf1",
   "metadata": {},
   "outputs": [],
   "source": [
    "# column \"total_rec_int\" is about interest received on in progress loan; \n",
    "# let's drop it \n",
    "loan_df2 = loan_df2.drop(columns=['total_rec_int'])\n",
    "loan_df2.info()"
   ]
  },
  {
   "cell_type": "code",
   "execution_count": null,
   "id": "c9951e21",
   "metadata": {},
   "outputs": [],
   "source": [
    "# column 'total_rec_late_fee' is about late fee received on in progress loan\n",
    "# let's drop it \n",
    "loan_df2 = loan_df2.drop(columns=['total_rec_late_fee'])\n",
    "loan_df2.info()"
   ]
  },
  {
   "cell_type": "code",
   "execution_count": null,
   "id": "91a8d1bb",
   "metadata": {},
   "outputs": [],
   "source": [
    "# column \"recoveries\" is related to amount received post declaring charged off\n",
    "# we can drop it since it is not related to application timing\n",
    "loan_df2 = loan_df2.drop(columns=['recoveries'])\n",
    "loan_df2.info()"
   ]
  },
  {
   "cell_type": "code",
   "execution_count": null,
   "id": "bdb9cf38",
   "metadata": {},
   "outputs": [],
   "source": [
    "# column 'collection_recovery_fee' it also related to post charge off situation as per Data Dictionay.xls\n",
    "# assumption: not related at the time of application\n",
    "loan_df2 = loan_df2.drop(columns=['collection_recovery_fee'])\n",
    "loan_df2.info()"
   ]
  },
  {
   "cell_type": "code",
   "execution_count": null,
   "id": "ac7e2811",
   "metadata": {},
   "outputs": [],
   "source": [
    "# columns 'last_pymnt_d' 'last_pymnt_amnt' and 'last_credit_pull_d' are related to loan in progress\n",
    "# assumption: we can drop those since may not be relevant at time of application\n",
    "loan_df2 = loan_df2.drop(columns=['last_pymnt_d','last_pymnt_amnt','last_credit_pull_d'])\n",
    "loan_df2.info()"
   ]
  },
  {
   "cell_type": "code",
   "execution_count": null,
   "id": "8c4d9e0c",
   "metadata": {},
   "outputs": [],
   "source": [
    "# columns 'collections_12_mths_ex_med' seems to be relevant to in progress borrowing\n",
    "# assumption: we can drop it\n",
    "loan_df2 = loan_df2.drop(columns=['collections_12_mths_ex_med'])\n",
    "loan_df2.info()"
   ]
  },
  {
   "cell_type": "code",
   "execution_count": null,
   "id": "499089ff",
   "metadata": {},
   "outputs": [],
   "source": [
    "loan_df2['policy_code'].value_counts()"
   ]
  },
  {
   "cell_type": "code",
   "execution_count": null,
   "id": "a800e0ef",
   "metadata": {},
   "outputs": [],
   "source": [
    "# seems like standard value for all entries; we can drop it\n",
    "loan_df2 = loan_df2.drop(columns=['policy_code'])\n",
    "loan_df2.info()"
   ]
  },
  {
   "cell_type": "code",
   "execution_count": null,
   "id": "fbc2a208",
   "metadata": {},
   "outputs": [],
   "source": [
    "loan_df2['application_type'].value_counts()"
   ]
  },
  {
   "cell_type": "code",
   "execution_count": null,
   "id": "9a5c7b29",
   "metadata": {},
   "outputs": [],
   "source": [
    "# same values for all entries; we can drop this column\n",
    "loan_df2 = loan_df2.drop(columns=['application_type'])\n",
    "loan_df2.info()"
   ]
  },
  {
   "cell_type": "code",
   "execution_count": null,
   "id": "a6d3adc0",
   "metadata": {},
   "outputs": [],
   "source": [
    "loan_df2['acc_now_delinq'].value_counts()"
   ]
  },
  {
   "cell_type": "code",
   "execution_count": null,
   "id": "30110bc1",
   "metadata": {},
   "outputs": [],
   "source": [
    "# let's drop column 'acc_now_delinq' since all entries are same\n",
    "loan_df2 = loan_df2.drop(columns=['acc_now_delinq'])\n",
    "loan_df2.info()"
   ]
  },
  {
   "cell_type": "code",
   "execution_count": null,
   "id": "5f535668",
   "metadata": {},
   "outputs": [],
   "source": [
    "loan_df2['chargeoff_within_12_mths'].value_counts()"
   ]
  },
  {
   "cell_type": "code",
   "execution_count": null,
   "id": "4dde6976",
   "metadata": {},
   "outputs": [],
   "source": [
    "# column 'chargeoff_within_12_mths' can be dropped since it does not have any useful value\n",
    "loan_df2 = loan_df2.drop(columns=['chargeoff_within_12_mths'])\n",
    "loan_df2.info()"
   ]
  },
  {
   "cell_type": "code",
   "execution_count": null,
   "id": "a1b36f5f",
   "metadata": {},
   "outputs": [],
   "source": [
    "loan_df2['pub_rec_bankruptcies'].value_counts()"
   ]
  },
  {
   "cell_type": "markdown",
   "id": "216745c5",
   "metadata": {},
   "source": [
    "## 3.4 Let's check and correct the datatype, if required"
   ]
  },
  {
   "cell_type": "code",
   "execution_count": null,
   "id": "895215c5",
   "metadata": {},
   "outputs": [],
   "source": [
    "loan_df2.info()"
   ]
  },
  {
   "cell_type": "markdown",
   "id": "8e1e1162",
   "metadata": {},
   "source": [
    "## 3.x Let's Perform Sanity check on Data"
   ]
  },
  {
   "cell_type": "markdown",
   "id": "2f305502",
   "metadata": {},
   "source": [
    "* Is range of interest rate correct?"
   ]
  },
  {
   "cell_type": "code",
   "execution_count": null,
   "id": "ab6bfb5b",
   "metadata": {},
   "outputs": [],
   "source": [
    "loan_df2['int_rate'].describe()"
   ]
  },
  {
   "cell_type": "markdown",
   "id": "9151d02f",
   "metadata": {},
   "source": [
    "## 3.3 Visualize distribution of loan status"
   ]
  },
  {
   "cell_type": "code",
   "execution_count": null,
   "id": "95138271",
   "metadata": {},
   "outputs": [],
   "source": [
    "loan_df2['loan_status'].value_counts().plot.barh()"
   ]
  },
  {
   "cell_type": "markdown",
   "id": "23fd21f9",
   "metadata": {},
   "source": [
    "## 3.xx Univariate Analysis"
   ]
  },
  {
   "cell_type": "code",
   "execution_count": null,
   "id": "940b7fec",
   "metadata": {},
   "outputs": [],
   "source": [
    "loan_df2['term'].value_counts().plot.bar()"
   ]
  },
  {
   "cell_type": "code",
   "execution_count": null,
   "id": "9735a598",
   "metadata": {},
   "outputs": [],
   "source": [
    "#let's make this column as categorical variable to make use during analysis\n",
    "loan_df2['term'] = loan_df2['term'].astype('category')"
   ]
  },
  {
   "cell_type": "code",
   "execution_count": null,
   "id": "7be04a65",
   "metadata": {},
   "outputs": [],
   "source": [
    "loan_df2['loan_amnt'].describe()"
   ]
  },
  {
   "cell_type": "code",
   "execution_count": null,
   "id": "bb759b12",
   "metadata": {},
   "outputs": [],
   "source": [
    "loan_df2['installment'].describe()"
   ]
  },
  {
   "cell_type": "code",
   "execution_count": null,
   "id": "73feb46b",
   "metadata": {},
   "outputs": [],
   "source": [
    "#'loan_amnt' seems to have high variance inside data\n",
    "# possible apporach may be to create a derived column with ordered categorical variable: \n",
    "#Very_Low_Amnt_Loan, Low_Amnt_Loan, Mid_Amnt_Loan, High_Amnt_Loan and Very_High_Amnt_Loan\n",
    "loan_df2['Loan_Amnt__Bucket']=pd.qcut(loan_df2['loan_amnt'], q=[0,0.2,0.4,0.6,0.8,1.0],\n",
    "                                     labels=['Very_Low_Amnt_Loan','Low_Amnt_Loan','Mid_Amnt_Loan','High_Amnt_Loan',\n",
    "                                             'Very_High_Amnt_Loan'])"
   ]
  },
  {
   "cell_type": "code",
   "execution_count": null,
   "id": "f23d96f9",
   "metadata": {},
   "outputs": [],
   "source": [
    "loan_df2['emp_length'].value_counts().plot.bar()"
   ]
  },
  {
   "cell_type": "code",
   "execution_count": null,
   "id": "04952c7a",
   "metadata": {},
   "outputs": [],
   "source": [
    "#let's convert 'emp_length' as categorical variable\n",
    "loan_df2['emp_length'] = loan_df2['emp_length'].astype('category')"
   ]
  },
  {
   "cell_type": "code",
   "execution_count": null,
   "id": "42857a84",
   "metadata": {},
   "outputs": [],
   "source": [
    "loan_df2['grade'].value_counts().plot.bar()"
   ]
  },
  {
   "cell_type": "code",
   "execution_count": null,
   "id": "4663a396",
   "metadata": {},
   "outputs": [],
   "source": [
    "loan_df2['home_ownership'].value_counts().plot.bar()"
   ]
  },
  {
   "cell_type": "code",
   "execution_count": null,
   "id": "d9536722",
   "metadata": {},
   "outputs": [],
   "source": [
    "#let's convert 'home_ownership' as categorical for using during analyis\n",
    "loan_df2['home_ownership'] = loan_df2['home_ownership'].astype('category')"
   ]
  },
  {
   "cell_type": "code",
   "execution_count": null,
   "id": "198a743c",
   "metadata": {},
   "outputs": [],
   "source": [
    "loan_df2['annual_inc'].describe()"
   ]
  },
  {
   "cell_type": "code",
   "execution_count": null,
   "id": "170197b8",
   "metadata": {},
   "outputs": [],
   "source": [
    "loan_df2['annual_inc'].plot.box()"
   ]
  },
  {
   "cell_type": "code",
   "execution_count": null,
   "id": "831b774c",
   "metadata": {},
   "outputs": [],
   "source": [
    "#'annual_inc' seems to have high variance inside data\n",
    "# possible apporach may be to create a derived column with ordered categorical variable: \n",
    "#Very_Low_Income, Low_Income, Mid_Income, High_Income and Very_High_Income\n",
    "loan_df2['Income_Bucket']=pd.qcut(loan_df2['annual_inc'], q=[0,0.2,0.4,0.6,0.8,1.0],\n",
    "                                     labels=['Very_Low_Income','Low_Income','Mid_Income','High_Income',\n",
    "                                             'Very_High_Income'])"
   ]
  },
  {
   "cell_type": "code",
   "execution_count": null,
   "id": "5754979f",
   "metadata": {},
   "outputs": [],
   "source": [
    "loan_df2['verification_status'].value_counts().plot.bar()"
   ]
  },
  {
   "cell_type": "code",
   "execution_count": null,
   "id": "5a081037",
   "metadata": {},
   "outputs": [],
   "source": [
    "#let's convert this 'verification_status' as category for leveraging it for analysis\n",
    "loan_df2['verification_status'] = loan_df2['verification_status'].astype('category')"
   ]
  },
  {
   "cell_type": "code",
   "execution_count": null,
   "id": "81c7d33f",
   "metadata": {},
   "outputs": [],
   "source": [
    "loan_df2['dti'].describe()"
   ]
  },
  {
   "cell_type": "code",
   "execution_count": null,
   "id": "1619ec51",
   "metadata": {},
   "outputs": [],
   "source": [
    "loan_df2['purpose'].value_counts().plot.bar()"
   ]
  },
  {
   "cell_type": "code",
   "execution_count": null,
   "id": "fdd0c6c9",
   "metadata": {},
   "outputs": [],
   "source": [
    "#let's convert 'purpose' as categorical variable \n",
    "loan_df2['purpose'] = loan_df2['purpose'].astype('category')"
   ]
  },
  {
   "cell_type": "code",
   "execution_count": null,
   "id": "47a3adc8",
   "metadata": {},
   "outputs": [],
   "source": [
    "loan_df2['open_acc'].describe()"
   ]
  },
  {
   "cell_type": "code",
   "execution_count": null,
   "id": "b9f87f24",
   "metadata": {},
   "outputs": [],
   "source": [
    "loan_df2['pub_rec'].describe()"
   ]
  },
  {
   "cell_type": "code",
   "execution_count": null,
   "id": "c0a12f93",
   "metadata": {},
   "outputs": [],
   "source": [
    "#need to drop this column since it has no useful information\n",
    "loan_df2 = loan_df2.drop(columns='pub_rec')"
   ]
  },
  {
   "cell_type": "code",
   "execution_count": null,
   "id": "508f8a33",
   "metadata": {},
   "outputs": [],
   "source": [
    "loan_df2['inq_last_6mths'].describe()"
   ]
  },
  {
   "cell_type": "code",
   "execution_count": null,
   "id": "d01131cc",
   "metadata": {},
   "outputs": [],
   "source": [
    "loan_df2['revol_bal'].describe()"
   ]
  },
  {
   "cell_type": "code",
   "execution_count": null,
   "id": "5f9685d0",
   "metadata": {},
   "outputs": [],
   "source": [
    "#'revold_bal' seems to have high variance inside data\n",
    "# possible apporach may be to create a derived column with ordered categorical variable: \n",
    "#Very_Low_Revol_Bal, Low_Revol_Bal, Mid_Revol_Bal, High_Revol_Bal and Very_High_Revol_Bal\n",
    "loan_df2['Revol_Bal_Bucket']=pd.qcut(loan_df2['revol_bal'], q=[0,0.2,0.4,0.6,0.8,1.0],\n",
    "                                     labels=['Very_Low_Revol_Bal','Low_Revol_Bal','Mid_Revol_Bal','High_Revol_Bal',\n",
    "                                             'Very_High_Revol_Bal'])"
   ]
  },
  {
   "cell_type": "code",
   "execution_count": null,
   "id": "9ccc1050",
   "metadata": {},
   "outputs": [],
   "source": [
    "loan_df2['total_acc'].describe()"
   ]
  },
  {
   "cell_type": "code",
   "execution_count": null,
   "id": "88eaf357",
   "metadata": {},
   "outputs": [],
   "source": [
    "loan_df2['total_acc'].plot.box()"
   ]
  },
  {
   "cell_type": "markdown",
   "id": "084acd5b",
   "metadata": {},
   "source": [
    "## 3.xx Bivariate Analysis"
   ]
  },
  {
   "cell_type": "code",
   "execution_count": null,
   "id": "80b82b90",
   "metadata": {},
   "outputs": [],
   "source": [
    "loan_df2.info()"
   ]
  },
  {
   "cell_type": "code",
   "execution_count": null,
   "id": "239585ca",
   "metadata": {},
   "outputs": [],
   "source": [
    "#for further analyis we can ignore loan with Current status as we do not know outcome of those in future yet\n",
    "loan_df2 = loan_df2[~(loan_df2['loan_status'] == 'Current')]"
   ]
  },
  {
   "cell_type": "code",
   "execution_count": null,
   "id": "9db22c29",
   "metadata": {},
   "outputs": [],
   "source": [
    "loan_df2['loan_status']"
   ]
  },
  {
   "cell_type": "code",
   "execution_count": null,
   "id": "dcc4186d",
   "metadata": {},
   "outputs": [],
   "source": [
    "#for further analyis let's create segments\n",
    "loan_df_charge_off = loan_df2[(loan_df2['loan_status'] == 'Charged Off')]\n",
    "loan_df_fully_paid = loan_df2[(loan_df2['loan_status'] == 'Fully Paid')]"
   ]
  },
  {
   "cell_type": "markdown",
   "id": "82424a2e",
   "metadata": {},
   "source": [
    "### Charge Off  (defaulters) loan Analysis"
   ]
  },
  {
   "cell_type": "code",
   "execution_count": null,
   "id": "2651ae66",
   "metadata": {},
   "outputs": [],
   "source": [
    "loan_df_charge_off.size"
   ]
  },
  {
   "cell_type": "code",
   "execution_count": null,
   "id": "0757ff86",
   "metadata": {},
   "outputs": [],
   "source": [
    "loan_df2.groupby(by='loan_status')['loan_amnt'].median().plot.bar()"
   ]
  },
  {
   "cell_type": "code",
   "execution_count": null,
   "id": "9095d095",
   "metadata": {},
   "outputs": [],
   "source": [
    "loan_df2.groupby(by='loan_status')['loan_amnt'].mean().plot.bar()"
   ]
  },
  {
   "cell_type": "code",
   "execution_count": null,
   "id": "bcbfe922",
   "metadata": {},
   "outputs": [],
   "source": [
    "#what is the relationship between loan status vs loan terms\n",
    "loan_df2.groupby(by='loan_status')['term'].value_counts().plot.bar()"
   ]
  },
  {
   "cell_type": "code",
   "execution_count": null,
   "id": "cd12fa28",
   "metadata": {},
   "outputs": [],
   "source": [
    "#what is the relationship between loan_amnt vs loan term\n",
    "loan_df2.groupby(by='term')['loan_amnt'].mean().plot.bar()"
   ]
  },
  {
   "cell_type": "code",
   "execution_count": null,
   "id": "717bdbd6",
   "metadata": {},
   "outputs": [],
   "source": [
    "loan_df2.groupby(by='term')['loan_amnt'].median().plot.bar()"
   ]
  },
  {
   "cell_type": "code",
   "execution_count": null,
   "id": "407d42d7",
   "metadata": {},
   "outputs": [],
   "source": [
    "#what is the relationship between loan_status vs interest rate\n",
    "loan_df2.groupby(by='loan_status')['int_rate'].mean().plot.bar()"
   ]
  },
  {
   "cell_type": "code",
   "execution_count": null,
   "id": "1642ed9e",
   "metadata": {},
   "outputs": [],
   "source": [
    "#what is the relationship annual income vs interest rate\n",
    "sns.pairplot(data=loan_df2[['annual_inc','int_rate']])"
   ]
  },
  {
   "cell_type": "code",
   "execution_count": null,
   "id": "b6190e51",
   "metadata": {},
   "outputs": [],
   "source": [
    "# what is the relationship between income, loan_status and term of loan\n",
    "income_vs_term_vs_loan_status = pd.pivot_table(data=loan_df2, index='Income_Bucket', columns='loan_status', values='term',aggfunc='count')\n",
    "income_vs_term_vs_loan_status.plot(kind='bar', stacked=False, figsize=[16,6],colormap='tab20')\n",
    "plt.legend(bbox_to_anchor = (1, 1))\n",
    "plt.show()"
   ]
  },
  {
   "cell_type": "code",
   "execution_count": null,
   "id": "d86cf39b",
   "metadata": {},
   "outputs": [],
   "source": []
  },
  {
   "cell_type": "code",
   "execution_count": null,
   "id": "790142c6",
   "metadata": {},
   "outputs": [],
   "source": [
    "loan_df2.groupby(by='loan_status')['int_rate'].median().plot.bar()"
   ]
  },
  {
   "cell_type": "code",
   "execution_count": null,
   "id": "29994b44",
   "metadata": {},
   "outputs": [],
   "source": [
    "loan_df2.groupby(by='Income_Bucket')['int_rate'].median().plot.bar()"
   ]
  },
  {
   "cell_type": "code",
   "execution_count": null,
   "id": "8669f21a",
   "metadata": {},
   "outputs": [],
   "source": [
    "#what is the relationship among loan_status, annual income vs interest rate\n",
    "loan_status_vs_income_vs_interest_rate = pd.pivot_table(data=loan_df2, index='Income_Bucket', columns='loan_status', values='int_rate')\n",
    "loan_status_vs_income_vs_interest_rate.plot(kind='bar', stacked=False, figsize=[16,6],colormap='tab20')\n",
    "plt.legend(bbox_to_anchor = (1, 1))\n",
    "plt.show()"
   ]
  },
  {
   "cell_type": "code",
   "execution_count": null,
   "id": "aea95c1a",
   "metadata": {},
   "outputs": [],
   "source": [
    "#what is the relationship among loan amount, interest rate and loan_status\n",
    "loan_amount_vs_int_rate_vs_loan_status = pd.pivot_table(data=loan_df2, index='Loan_Amnt__Bucket', columns='loan_status', values='int_rate', aggfunc=np.mean)\n",
    "loan_amount_vs_int_rate_vs_loan_status.plot(kind='bar', stacked=False, figsize=[16,6],colormap='tab20')\n",
    "plt.legend(bbox_to_anchor = (1, 1))\n",
    "plt.show()"
   ]
  },
  {
   "cell_type": "code",
   "execution_count": null,
   "id": "7ed18db4",
   "metadata": {},
   "outputs": [],
   "source": [
    "#what is the relationship among annual income, loan amount vs loan_status\n",
    "income_vs_loan_amount = pd.pivot_table(data=loan_df2, index='Income_Bucket', columns='loan_status', values='loan_amnt', aggfunc=np.median)\n",
    "income_vs_loan_amount.plot(kind='bar', stacked=False, figsize=[16,6],colormap='tab20')\n",
    "plt.legend(bbox_to_anchor = (1, 1))\n",
    "plt.show()"
   ]
  },
  {
   "cell_type": "code",
   "execution_count": null,
   "id": "d4503636",
   "metadata": {},
   "outputs": [],
   "source": [
    "#what is the relationship among annual income, loan purpose vs loan_status\n",
    "income_vs_loan_purpose = pd.pivot_table(data=loan_df2, index='Income_Bucket', columns='purpose', values='member_id', aggfunc='count')\n",
    "income_vs_loan_purpose.plot(kind='bar', stacked=False, figsize=[16,6],colormap='tab20')\n",
    "plt.legend(bbox_to_anchor = (1, 1))\n",
    "plt.show()"
   ]
  },
  {
   "cell_type": "code",
   "execution_count": null,
   "id": "f4f42208",
   "metadata": {},
   "outputs": [],
   "source": [
    "#what is the relationship among annual income, loan purpose vs loan_status\n",
    "income_vs_loan_purpose = pd.pivot_table(data=loan_df2, index='Income_Bucket', columns='purpose', values='loan_amnt', aggfunc=sum)\n",
    "income_vs_loan_purpose.plot(kind='bar', stacked=False, figsize=[16,6],colormap='tab20')\n",
    "plt.legend(bbox_to_anchor = (1, 1))\n",
    "plt.show()"
   ]
  },
  {
   "cell_type": "code",
   "execution_count": null,
   "id": "4092d33e",
   "metadata": {},
   "outputs": [],
   "source": [
    "#what is the relantionship between income vs debt"
   ]
  },
  {
   "cell_type": "code",
   "execution_count": null,
   "id": "9383a102",
   "metadata": {},
   "outputs": [],
   "source": [
    "#what is the relationship among loan_amnt, loan purpose vs loan_status\n",
    "income_vs_loan_purpose = pd.pivot_table(data=loan_df2, index='loan_status', columns='purpose', values='loan_amnt')\n",
    "income_vs_loan_purpose.plot(kind='bar', stacked=False, figsize=[16,6],colormap='tab20')\n",
    "plt.legend(bbox_to_anchor = (1, 1))\n",
    "plt.show()"
   ]
  },
  {
   "cell_type": "code",
   "execution_count": null,
   "id": "432561d2",
   "metadata": {},
   "outputs": [],
   "source": [
    "#what is the relationship between the location and loan status\n",
    "loan_status_vs_state = pd.pivot_table(data=loan_df2, index='addr_state', columns='loan_status', values='member_id', aggfunc='count')\n",
    "loan_status_vs_state.plot(kind='bar', stacked=False, figsize=[16,6],colormap='tab20')\n",
    "plt.legend(bbox_to_anchor = (1, 1))\n",
    "plt.show()"
   ]
  },
  {
   "cell_type": "code",
   "execution_count": null,
   "id": "88a3110c",
   "metadata": {},
   "outputs": [],
   "source": [
    "#what is the relationship between the location, income and loan status\n",
    "state_vs_income_vs_loan_status = pd.pivot_table(data=loan_df2, index='addr_state', columns='loan_status', values='annual_inc', aggfunc=np.median)\n",
    "state_vs_income_vs_loan_status.plot(kind='bar', stacked=False, figsize=[16,6],colormap='tab20')\n",
    "plt.legend(bbox_to_anchor = (1, 1))\n",
    "plt.show()"
   ]
  },
  {
   "cell_type": "code",
   "execution_count": null,
   "id": "593e26ee",
   "metadata": {},
   "outputs": [],
   "source": [
    "loan_df_charge_off.groupby(by='purpose')['loan_amnt'].sum().plot.bar()"
   ]
  },
  {
   "cell_type": "code",
   "execution_count": null,
   "id": "620d8331",
   "metadata": {},
   "outputs": [],
   "source": [
    "loan_df_charge_off.groupby(by='Income_Bucket')['loan_amnt'].sum().plot.bar()"
   ]
  },
  {
   "cell_type": "code",
   "execution_count": null,
   "id": "ce779657",
   "metadata": {},
   "outputs": [],
   "source": [
    "#let's visualize relationship between loan_status vs purpose\n",
    "loan_status_vs_purpose = pd.pivot_table(data=loan_df_charge_off, index='Income_Bucket', \n",
    "                                              columns='purpose', values='member_id', aggfunc='count')\n",
    "loan_status_vs_purpose.plot(kind='bar', stacked=True, figsize=[16,6],colormap='tab20')\n",
    "plt.legend(bbox_to_anchor = (1.05, 0.6))\n",
    "plt.show()"
   ]
  },
  {
   "cell_type": "code",
   "execution_count": null,
   "id": "0cbec270",
   "metadata": {},
   "outputs": [],
   "source": [
    "#what is the relationship between income & length of employment\n",
    "income_vs_emp_length = pd.pivot_table(data=loan_df_charge_off, index='emp_length', \n",
    "                                              columns='Income_Bucket', values='annual_inc', aggfunc=np.median)\n",
    "income_vs_emp_length.plot(kind='bar', stacked=True, figsize=[16,6],colormap='tab20')\n",
    "plt.legend(bbox_to_anchor = (1.05, 0.6))\n",
    "plt.show()"
   ]
  },
  {
   "cell_type": "code",
   "execution_count": null,
   "id": "9c9cb662",
   "metadata": {},
   "outputs": [],
   "source": [
    "#what is the relationship of grade for charge-off loans\n",
    "loan_df_charge_off['grade'].value_counts().plot.bar()"
   ]
  },
  {
   "cell_type": "code",
   "execution_count": null,
   "id": "f931a71c",
   "metadata": {},
   "outputs": [],
   "source": [
    "loan_df_charge_off.groupby(['grade'])['sub_grade'].value_counts().plot.bar()\n",
    "plt.figimage()"
   ]
  },
  {
   "cell_type": "code",
   "execution_count": null,
   "id": "11067515",
   "metadata": {},
   "outputs": [],
   "source": [
    "loan_df_charge_off['home_ownership'].value_counts().plot.bar()"
   ]
  },
  {
   "cell_type": "code",
   "execution_count": null,
   "id": "e28718a4",
   "metadata": {},
   "outputs": [],
   "source": [
    "#what is the relationship among loan_amount, loan_status and home ownershipe\n",
    "loan_amount_vs_loan_status_vs_home_ownershipe = pd.pivot_table(data=loan_df_charge_off, index='Loan_Amnt__Bucket', \n",
    "                                              columns='loan_status', values='home_ownership', aggfunc='count')\n",
    "loan_amount_vs_loan_status_vs_home_ownershipe.plot(kind='bar', stacked=False, figsize=[16,6],colormap='tab20')\n",
    "plt.legend(bbox_to_anchor = (1, 1))\n",
    "plt.show()"
   ]
  },
  {
   "cell_type": "code",
   "execution_count": null,
   "id": "a64d2e51",
   "metadata": {},
   "outputs": [],
   "source": [
    "#what is the CIBIL score"
   ]
  },
  {
   "cell_type": "code",
   "execution_count": null,
   "id": "d8d0cc68",
   "metadata": {},
   "outputs": [],
   "source": [
    "#what is the history of previous loans"
   ]
  },
  {
   "cell_type": "code",
   "execution_count": null,
   "id": "a91de221",
   "metadata": {},
   "outputs": [],
   "source": [
    "#what is the relationship for number of dependents or number of member making income"
   ]
  },
  {
   "cell_type": "code",
   "execution_count": null,
   "id": "40e93824",
   "metadata": {},
   "outputs": [],
   "source": [
    "loan_df_charge_off['verification_status'].value_counts().plot.bar()"
   ]
  },
  {
   "cell_type": "code",
   "execution_count": null,
   "id": "e9fae30e",
   "metadata": {},
   "outputs": [],
   "source": [
    "loan_df_charge_off['inq_last_6mths'].value_counts().plot.bar()"
   ]
  },
  {
   "cell_type": "code",
   "execution_count": null,
   "id": "7d5d8d6b",
   "metadata": {},
   "outputs": [],
   "source": [
    "loan_df_charge_off['open_acc'].value_counts().plot.bar()"
   ]
  },
  {
   "cell_type": "code",
   "execution_count": null,
   "id": "720b9ebf",
   "metadata": {},
   "outputs": [],
   "source": [
    "#what is the relationship between income & revolving balancce\n",
    "f = plt.figure()\n",
    "f.set_figwidth(25)\n",
    "loan_df_charge_off['total_acc'].value_counts().plot.bar()\n",
    "\n",
    "plt.show()"
   ]
  },
  {
   "cell_type": "code",
   "execution_count": null,
   "id": "fc82ea5b",
   "metadata": {},
   "outputs": [],
   "source": [
    "loan_df_charge_off['pub_rec_bankruptcies'].value_counts().plot.bar()"
   ]
  },
  {
   "cell_type": "markdown",
   "id": "b9c2b0fa",
   "metadata": {},
   "source": [
    "### Fully Paid loan Analysis"
   ]
  },
  {
   "cell_type": "code",
   "execution_count": null,
   "id": "995621d5",
   "metadata": {},
   "outputs": [],
   "source": [
    "loan_df_fully_paid.groupby(by='purpose')['loan_amnt'].sum().plot.bar()"
   ]
  },
  {
   "cell_type": "code",
   "execution_count": null,
   "id": "b68143a4",
   "metadata": {},
   "outputs": [],
   "source": [
    "loan_df_fully_paid.info()"
   ]
  },
  {
   "cell_type": "code",
   "execution_count": null,
   "id": "31f6daa3",
   "metadata": {},
   "outputs": [],
   "source": [
    "loan_df_charge_off.info()"
   ]
  },
  {
   "cell_type": "code",
   "execution_count": null,
   "id": "089dd4c2",
   "metadata": {},
   "outputs": [],
   "source": [
    "#let's visualize relationship between loan_status vs purpose\n",
    "loan_status_vs_purpose = pd.pivot_table(data=loan_df2, index='loan_status', \n",
    "                                              columns='purpose', values='loan_amnt', aggfunc=np.median)\n",
    "loan_status_vs_purpose.plot(kind='bar', stacked=True, figsize=[10,6],colormap='tab20')\n",
    "plt.legend(bbox_to_anchor = (1, 1))\n",
    "plt.show()"
   ]
  },
  {
   "cell_type": "code",
   "execution_count": null,
   "id": "56cd56a0",
   "metadata": {},
   "outputs": [],
   "source": [
    "#let's visualize relationship between loan_status vs Income_Bucket\n",
    "loan_status_vs_Income_Bucket = pd.pivot_table(data=loan_df2, index='loan_status', \n",
    "                                              columns='Income_Bucket', values='loan_amnt', aggfunc=np.median)"
   ]
  },
  {
   "cell_type": "code",
   "execution_count": null,
   "id": "cfdb6a03",
   "metadata": {},
   "outputs": [],
   "source": [
    "loan_status_vs_Income_Bucket.plot(kind='bar', stacked=True, figsize=[16,6],colormap='tab20')\n",
    "plt.legend(loc='best')\n",
    "plt.show()"
   ]
  },
  {
   "cell_type": "code",
   "execution_count": null,
   "id": "495c3a43",
   "metadata": {},
   "outputs": [],
   "source": [
    "sns.heatmap(loan_status_vs_Income_Bucket)"
   ]
  },
  {
   "cell_type": "code",
   "execution_count": null,
   "id": "2a77bfeb",
   "metadata": {},
   "outputs": [],
   "source": [
    "#let's visualize relationship between purpose of loan vs income of people\n",
    "Income_Bucket_vs_loan_purpose = pd.pivot_table(data=loan_df2, index='Income_Bucket', \n",
    "                                              columns='purpose', values='loan_amnt', aggfunc=np.median)"
   ]
  },
  {
   "cell_type": "code",
   "execution_count": null,
   "id": "c68d44f2",
   "metadata": {},
   "outputs": [],
   "source": [
    "Income_Bucket_vs_loan_purpose.plot(kind='bar', stacked=True, figsize=[16,6],colormap='tab20')\n",
    "plt.legend(loc='best')\n",
    "plt.show()"
   ]
  },
  {
   "cell_type": "code",
   "execution_count": null,
   "id": "d133cee6",
   "metadata": {},
   "outputs": [],
   "source": [
    "#let's visualize relationship between loan_status vs Revol_Bal_Bucket\n",
    "loan_status_vs_Revol_Bal_Bucket = pd.pivot_table(data=loan_df2, index='loan_status', \n",
    "                                              columns='Revol_Bal_Bucket', values='loan_amnt', aggfunc=np.median)"
   ]
  },
  {
   "cell_type": "code",
   "execution_count": null,
   "id": "487f1e2b",
   "metadata": {},
   "outputs": [],
   "source": [
    "sns.heatmap(loan_status_vs_Revol_Bal_Bucket)"
   ]
  },
  {
   "cell_type": "code",
   "execution_count": null,
   "id": "50ae2bbf",
   "metadata": {},
   "outputs": [],
   "source": [
    "#let's visualize relationship between loan_status vs loan term\n",
    "loan_status_vs_loan_term = pd.pivot_table(data=loan_df2, index='loan_status', \n",
    "                                              columns='term', values='loan_amnt', aggfunc=np.median)\n",
    "sns.heatmap(loan_status_vs_loan_term)"
   ]
  },
  {
   "cell_type": "code",
   "execution_count": null,
   "id": "16a879d6",
   "metadata": {},
   "outputs": [],
   "source": [
    "#let's visualize relationship between loan_status vs career length\n",
    "loan_status_vs_emp_length = pd.pivot_table(data=loan_df2, index='loan_status', \n",
    "                                              columns='emp_length', values='loan_amnt', aggfunc=np.median)\n",
    "sns.heatmap(loan_status_vs_emp_length)"
   ]
  },
  {
   "cell_type": "code",
   "execution_count": null,
   "id": "6e53de16",
   "metadata": {},
   "outputs": [],
   "source": [
    "loan_df2.groupby(by=['emp_length'])['dti'].mean().plot.barh()"
   ]
  },
  {
   "cell_type": "code",
   "execution_count": null,
   "id": "1897fd84",
   "metadata": {},
   "outputs": [],
   "source": [
    "#let's understand the purpose of loan based on length of career\n",
    "emp_length_vs_purpose = pd.pivot_table(data=loan_df2, index='emp_length', values='loan_amnt', columns='purpose')\n",
    "emp_length_vs_purpose.plot(kind='bar', stacked=True, figsize=[20,6])\n",
    "plt.legend(loc='best')\n",
    "plt.show()"
   ]
  },
  {
   "cell_type": "markdown",
   "id": "36e10c79",
   "metadata": {},
   "source": [
    "### let's analyse relationship of loan_status with each numerical columns"
   ]
  },
  {
   "cell_type": "code",
   "execution_count": null,
   "id": "dab337a0",
   "metadata": {},
   "outputs": [],
   "source": [
    "loan_df2.groupby(by=['loan_status'])['loan_amnt'].mean().plot.barh()"
   ]
  },
  {
   "cell_type": "code",
   "execution_count": null,
   "id": "c1ab0efa",
   "metadata": {},
   "outputs": [],
   "source": [
    "loan_df2.info()"
   ]
  },
  {
   "cell_type": "code",
   "execution_count": null,
   "id": "fa7b3596",
   "metadata": {},
   "outputs": [],
   "source": [
    "# let's analyze relationship loan_status vs inq_last_6mths\n",
    "loan_status_vs_inq_last_6mths = pd.pivot_table(data=loan_df2, index='loan_status', values='member_id', columns='inq_last_6mths',aggfunc='count')\n",
    "loan_status_vs_inq_last_6mths.plot(kind='bar', stacked=True, figsize=[20,6])\n",
    "plt.legend(loc='best')\n",
    "plt.show()"
   ]
  },
  {
   "cell_type": "code",
   "execution_count": null,
   "id": "5f32b1d3",
   "metadata": {},
   "outputs": [],
   "source": [
    "# let's analyze relationship loan_status vs grade\n",
    "loan_status_vs_grade = pd.pivot_table(data=loan_df2, index='loan_status', values='member_id', columns='grade', aggfunc='count')\n",
    "loan_status_vs_grade.plot(kind='bar', stacked=True, figsize=[20,6])\n",
    "plt.legend(loc='best')\n",
    "plt.show()"
   ]
  },
  {
   "cell_type": "code",
   "execution_count": null,
   "id": "af9d7283",
   "metadata": {},
   "outputs": [],
   "source": [
    "# let's analyze relationship loan_status vs home_ownership\n",
    "loan_df2.groupby(by=['loan_status'])['home_ownership'].count().plot.bar(stacked=True)"
   ]
  },
  {
   "cell_type": "markdown",
   "id": "dcad82be",
   "metadata": {},
   "source": [
    "### conclusion xx: no relationship of loan status vs loan amount"
   ]
  },
  {
   "cell_type": "code",
   "execution_count": null,
   "id": "269b9b9e",
   "metadata": {},
   "outputs": [],
   "source": [
    "loan_df3.groupby(by=['loan_status'])['loan_amnt'].mean().plot.barh()"
   ]
  },
  {
   "cell_type": "code",
   "execution_count": null,
   "id": "8d12f607",
   "metadata": {},
   "outputs": [],
   "source": []
  },
  {
   "cell_type": "markdown",
   "id": "46375f9a",
   "metadata": {},
   "source": [
    "## 3.4 Analyze relationship of \"Charged Off\" with customer related params"
   ]
  },
  {
   "cell_type": "code",
   "execution_count": null,
   "id": "56081475",
   "metadata": {},
   "outputs": [],
   "source": [
    "loan_df_charged_off = loan_df3[(loan_df3['loan_status']=='Charged Off')]"
   ]
  },
  {
   "cell_type": "code",
   "execution_count": null,
   "id": "ecfa1cbd",
   "metadata": {},
   "outputs": [],
   "source": [
    "loan_df_charged_off.shape"
   ]
  },
  {
   "cell_type": "code",
   "execution_count": null,
   "id": "b92a8081",
   "metadata": {},
   "outputs": [],
   "source": [
    "loan_df_charged_off.info()"
   ]
  },
  {
   "cell_type": "code",
   "execution_count": null,
   "id": "17735af1",
   "metadata": {},
   "outputs": [],
   "source": [
    "sns.pairplot(loan_df_charged_off[['loan_amnt','int_rate','annual_inc','dti','revol_bal']])"
   ]
  },
  {
   "cell_type": "code",
   "execution_count": null,
   "id": "3bf966a7",
   "metadata": {},
   "outputs": [],
   "source": [
    "loan_df_charged_off.info()"
   ]
  },
  {
   "cell_type": "code",
   "execution_count": null,
   "id": "56f3adc8",
   "metadata": {},
   "outputs": [],
   "source": [
    "sns.pairplot(loan_df_charged_off[['inq_last_6mths','open_acc','pub_rec','total_acc']])"
   ]
  },
  {
   "cell_type": "code",
   "execution_count": null,
   "id": "d6a761c5",
   "metadata": {},
   "outputs": [],
   "source": []
  }
 ],
 "metadata": {
  "kernelspec": {
   "display_name": "Python 3",
   "language": "python",
   "name": "python3"
  },
  "language_info": {
   "codemirror_mode": {
    "name": "ipython",
    "version": 3
   },
   "file_extension": ".py",
   "mimetype": "text/x-python",
   "name": "python",
   "nbconvert_exporter": "python",
   "pygments_lexer": "ipython3",
   "version": "3.8.8"
  }
 },
 "nbformat": 4,
 "nbformat_minor": 5
}
